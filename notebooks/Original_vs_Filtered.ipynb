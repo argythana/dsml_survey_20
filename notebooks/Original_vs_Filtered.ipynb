{
 "cells": [
  {
   "cell_type": "markdown",
   "metadata": {},
   "source": [
    "# Comparison with Kaggle report"
   ]
  },
  {
   "cell_type": "code",
   "execution_count": null,
   "metadata": {},
   "outputs": [],
   "source": [
    "import os\n",
    "import sys\n",
    "from typing import Any\n",
    "from typing import Dict\n",
    "from typing import List\n",
    "from typing import Optional\n",
    "from typing import Union\n",
    "\n",
    "import matplotlib as mpl\n",
    "import matplotlib.pyplot as plt\n",
    "import numpy as np\n",
    "import pandas as pd\n",
    "import seaborn as sns\n",
    "\n",
    "from holoviews import opts as hv_opts\n",
    "from IPython.core.display import display, HTML\n",
    "from IPython.lib import deepreload\n",
    "\n",
    "import os\n",
    "import sys\n",
    "\n",
    "from IPython.lib import deepreload\n",
    "\n",
    "import kagglelib as kglib\n",
    "\n",
    "# https://stackoverflow.com/questions/8391411/how-to-block-calls-to-print\n",
    "class disabled_print:\n",
    "    def __enter__(self):\n",
    "        self._original_stdout = sys.stdout\n",
    "        sys.stdout = open(os.devnull, 'w')\n",
    "\n",
    "    def __exit__(self, exc_type, exc_val, exc_tb):\n",
    "        sys.stdout.close()\n",
    "        sys.stdout = self._original_stdout\n",
    "\n",
    "# https://stackoverflow.com/questions/28101895/reloading-packages-and-their-submodules-recursively-in-python\n",
    "def reload_kglib() -> None:\n",
    "    with disabled_print():\n",
    "        deepreload.reload(kglib, exclude={key for (key, value) in sys.modules.items() if \"kagglelib\" not in key})\n",
    "\n",
    "hv.extension('bokeh', \"plotly\", \"matplotlib\", logo=False)\n",
    "\n",
    "np.set_printoptions(linewidth=200)\n",
    "pd.options.display.max_columns = None\n",
    "display(HTML(\"<style>.container { width:100% !important; }</style>\"))"
   ]
  },
  {
   "cell_type": "code",
   "execution_count": null,
   "metadata": {},
   "outputs": [],
   "source": [
    "reload_kglib()\n",
    "udf = kglib.load_udf()\n",
    "uds = kglib.load_role_df(udf, role=\"Data Scientist\")\n",
    "fdf = kglib.filter_df(udf, print_filters=True)\n",
    "fds = kglib.load_role_df(fdf, role=\"Data Scientist\")\n",
    "udf, uds, fdf, fds = map(kglib.keep_demo_cols, (udf, uds, fdf, fds))"
   ]
  },
  {
   "cell_type": "code",
   "execution_count": null,
   "metadata": {},
   "outputs": [],
   "source": [
    "dataset1, dataset2 = uds, fds"
   ]
  },
  {
   "cell_type": "markdown",
   "metadata": {},
   "source": [
    "## Gender\n",
    "\n",
    "Page 4"
   ]
  },
  {
   "cell_type": "code",
   "execution_count": null,
   "metadata": {},
   "outputs": [],
   "source": [
    "column = \"gender\"\n",
    "df = kglib.get_stacked_value_count_comparison(\n",
    "    sr1=dataset1[column],\n",
    "    sr2=dataset2[column],\n",
    "    stack_label=\"No. participants\",\n",
    "    as_percentage=True,\n",
    "    order=[\"Man\", \"Woman\", \"Nonbinary\", \"Prefer not to say\", \"Prefer to self-describe\"],\n",
    ")\n",
    "\n",
    "kglib.sns_plot_value_count_comparison(\n",
    "    df=df,\n",
    "    orientation=\"h\",\n",
    "    order_by_labels=False,\n",
    "    legend_location=\"center right\",\n",
    "    title=\"Gender identify of data scientists\"\n",
    ")"
   ]
  },
  {
   "cell_type": "markdown",
   "metadata": {},
   "source": [
    "## Age\n",
    "\n",
    "Page 5"
   ]
  },
  {
   "cell_type": "code",
   "execution_count": null,
   "metadata": {},
   "outputs": [],
   "source": [
    "column = \"age\"\n",
    "df = kglib.get_stacked_value_count_comparison(\n",
    "    sr1=dataset1[column],\n",
    "    sr2=dataset2[column],\n",
    "    stack_label=\"No. participants\",\n",
    "    as_percentage=True\n",
    ")\n",
    "kglib.sns_plot_value_count_comparison(df, orientation=\"h\")"
   ]
  },
  {
   "cell_type": "markdown",
   "metadata": {},
   "source": [
    "## Country\n",
    "\n",
    "Page 6"
   ]
  },
  {
   "cell_type": "code",
   "execution_count": null,
   "metadata": {},
   "outputs": [],
   "source": [
    "column = \"country\"\n",
    "df = kglib.get_value_count_comparison(\n",
    "    sr1=dataset1[column],\n",
    "    sr2=dataset2[column],\n",
    "    as_percentage=True\n",
    ")\n",
    "df = df[df.original > 1.4]\n",
    "df = df.sort_values(by=\"original\")\n",
    "df = kglib.stack_value_count_comparison(df, \"participants (%)\")\n",
    "kglib.sns_plot_value_count_comparison(df, orientation=\"v\", order_by_labels=False, x_ticklabels_rotation=40)"
   ]
  },
  {
   "cell_type": "markdown",
   "metadata": {},
   "source": [
    "## Education\n",
    "\n",
    "Page 7"
   ]
  },
  {
   "cell_type": "code",
   "execution_count": null,
   "metadata": {},
   "outputs": [],
   "source": [
    "reload_kglib()\n",
    "\n",
    "column = \"education\"\n",
    "order = [\n",
    "    'No formal education past high school',\n",
    "    'Some college/university study without earning a bachelor’s degree',\n",
    "    'Bachelor’s degree',\n",
    "    'Master’s degree',\n",
    "    'Doctoral degree',\n",
    "    'Professional degree',\n",
    "    'I prefer not to answer',\n",
    "]\n",
    "\n",
    "df = kglib.get_stacked_value_count_comparison(\n",
    "    sr1=dataset1[\"education\"],\n",
    "    sr2=dataset2[\"education\"],\n",
    "    stack_label=\"participants (%)\",\n",
    "    as_percentage=True,\n",
    "    order=order,\n",
    ")\n",
    "kglib.sns_plot_value_count_comparison(df, orientation=\"h\", order_by_labels=True)"
   ]
  },
  {
   "cell_type": "markdown",
   "metadata": {},
   "source": [
    "## Programming Experience\n",
    "\n",
    "Partially in Page 9"
   ]
  },
  {
   "cell_type": "code",
   "execution_count": null,
   "metadata": {},
   "outputs": [],
   "source": [
    "column = \"code_exp\"\n",
    "df = kglib.get_stacked_value_count_comparison(\n",
    "    sr1=dataset1[column],\n",
    "    sr2=dataset2[column],\n",
    "    stack_label=\"participants\",\n",
    "    as_percentage=True\n",
    ")\n",
    "kglib.sns_plot_value_count_comparison(\n",
    "    df=df,\n",
    "    orientation=\"h\",\n",
    "    order_by_labels=True,\n",
    "    title=\"Coding experience global dataset\"\n",
    ")"
   ]
  },
  {
   "cell_type": "markdown",
   "metadata": {},
   "source": [
    "## ML Experience\n",
    "\n",
    "Partially in Page 10"
   ]
  },
  {
   "cell_type": "code",
   "execution_count": null,
   "metadata": {},
   "outputs": [],
   "source": [
    "column = \"ml_exp\"\n",
    "df = kglib.get_stacked_value_count_comparison(\n",
    "    sr1=dataset1[column],\n",
    "    sr2=dataset2[column],\n",
    "    stack_label=\"participants\",\n",
    "    as_percentage=True\n",
    ")\n",
    "kglib.sns_plot_value_count_comparison(\n",
    "    df=df,\n",
    "    orientation=\"h\",\n",
    "    order_by_labels=True,\n",
    "    title=\"ML Experience Global dataset\"\n",
    ")"
   ]
  },
  {
   "cell_type": "markdown",
   "metadata": {},
   "source": [
    "## Salary Global\n",
    "\n",
    "Page 11"
   ]
  },
  {
   "cell_type": "code",
   "execution_count": null,
   "metadata": {},
   "outputs": [],
   "source": [
    "column = \"salary\"\n",
    "df = kglib.get_stacked_value_count_comparison(\n",
    "    sr1=dataset1[column],\n",
    "    sr2=dataset2[column],\n",
    "    stack_label=\"participants\",\n",
    "    as_percentage=True\n",
    ")\n",
    "kglib.sns_plot_value_count_comparison(\n",
    "    df=df,\n",
    "    orientation=\"h\",\n",
    "    order_by_labels=True,\n",
    ")"
   ]
  },
  {
   "cell_type": "markdown",
   "metadata": {},
   "source": [
    "## Salary USA\n",
    "\n",
    "Page 12"
   ]
  },
  {
   "cell_type": "code",
   "execution_count": null,
   "metadata": {},
   "outputs": [],
   "source": [
    "column = \"salary\"\n",
    "df = kglib.get_stacked_value_count_comparison(\n",
    "    sr1=dataset1[dataset1.country == \"USA\"][column],\n",
    "    sr2=dataset2[dataset2.country == \"USA\"][column],\n",
    "    stack_label=\"participants\",\n",
    "    as_percentage=True\n",
    ")\n",
    "kglib.sns_plot_value_count_comparison(\n",
    "    df=df,\n",
    "    orientation=\"h\",\n",
    "    order_by_labels=True,\n",
    ")"
   ]
  },
  {
   "cell_type": "markdown",
   "metadata": {},
   "source": [
    "## Salary India\n",
    "\n",
    "Page 13"
   ]
  },
  {
   "cell_type": "code",
   "execution_count": null,
   "metadata": {},
   "outputs": [],
   "source": [
    "column = \"salary\"\n",
    "df = kglib.get_stacked_value_count_comparison(\n",
    "    sr1=dataset1[dataset1.country == \"India\"][column],\n",
    "    sr2=dataset2[dataset2.country == \"India\"][column],\n",
    "    stack_label=\"participants\",\n",
    "    as_percentage=True\n",
    ")\n",
    "kglib.sns_plot_value_count_comparison(\n",
    "    df=df,\n",
    "    orientation=\"h\",\n",
    "    order_by_labels=True,\n",
    ")"
   ]
  }
 ],
 "metadata": {
  "kernelspec": {
   "display_name": "Python 3",
   "language": "python",
   "name": "python3"
  },
  "language_info": {
   "codemirror_mode": {
    "name": "ipython",
    "version": 3
   },
   "file_extension": ".py",
   "mimetype": "text/x-python",
   "name": "python",
   "nbconvert_exporter": "python",
   "pygments_lexer": "ipython3",
   "version": "3.8.6"
  }
 },
 "nbformat": 4,
 "nbformat_minor": 4
}
