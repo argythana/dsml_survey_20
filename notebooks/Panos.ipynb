{
 "cells": [
  {
   "cell_type": "code",
   "execution_count": null,
   "metadata": {},
   "outputs": [],
   "source": [
    "import holoviews as hv\n",
    "import matplotlib as mpl\n",
    "import matplotlib.pyplot as plt\n",
    "import numpy as np\n",
    "import pandas as pd\n",
    "import seaborn as sns\n",
    "import xarray as xa\n",
    "\n",
    "from typing import List\n",
    "\n",
    "from IPython.core.display import display, HTML\n",
    "\n",
    "np.set_printoptions(linewidth=200)\n",
    "pd.options.display.max_columns = None\n",
    "display(HTML(\"<style>.container { width:100% !important; }</style>\"))"
   ]
  },
  {
   "cell_type": "code",
   "execution_count": null,
   "metadata": {},
   "outputs": [],
   "source": [
    "# In order to make the analysis easier, we can filter the dataframe into smaller ones \n",
    "# which will contain the data of each multiple choice question.\n",
    "# To this end, defining a function can be helpful\n",
    "def filter_df(df, question_index):\n",
    "    columns = [col for col in df.columns if col.startswith(f\"Q{question_index}_\")]\n",
    "    df = df.loc[1:][columns].fillna(False)\n",
    "    unique_values = []\n",
    "    for column in columns:\n",
    "        column_unique = list(df[column].unique())\n",
    "        column_unique.remove(False)\n",
    "        unique_values.append(column_unique[0])\n",
    "    filtered_df = df.replace(to_replace=unique_values, value=True)\n",
    "    filtered_df.columns = [value.strip() for value in unique_values]\n",
    "    return filtered_df\n",
    "\n",
    "# We will usually want to join one or more of the filtered dataframes to the background one:\n",
    "def join_dfs(*dataframes: List[pd.DataFrame]) -> pd.DataFrame:\n",
    "    df = pd.concat(dataframes, axis=1, ignore_index=False)\n",
    "    return df"
   ]
  },
  {
   "cell_type": "code",
   "execution_count": null,
   "metadata": {},
   "outputs": [],
   "source": [
    "# load the original dataset.\n",
    "orig = pd.read_csv(\"../data/kaggle_survey_2020_responses.csv\", low_memory=False)\n",
    "orig.head(2)"
   ]
  },
  {
   "cell_type": "code",
   "execution_count": null,
   "metadata": {},
   "outputs": [],
   "source": [
    "# the first row contains the question.\n",
    "# This is useful to read but it is not actual data.\n",
    "df = orig.loc[1:].reset_index(drop=True)\n",
    "df.head(2)\n",
    "df.tail(2)"
   ]
  },
  {
   "cell_type": "code",
   "execution_count": null,
   "metadata": {},
   "outputs": [],
   "source": [
    "## Normalize data\n",
    "#\n",
    "# Strip whitespace from all the anwers\n",
    "# Note: Since, initially, all the columns are of dtype \"object\" We could do this simply with: \n",
    "#           df = df.apply(lambda x: x.str.strip())\n",
    "#       Nevertheless, we want to convert one column to a numeric one, so reexecuting this cell will be failing.\n",
    "#       Thus we will do this in a bit more elaborate way.\n",
    "string_cols = df.select_dtypes(object).columns\n",
    "df[string_cols] = df[string_cols].apply(lambda x: x.str.strip())\n",
    "\n",
    "# Remove symbols and \",\" from salary ranges.\n",
    "df.Q24 = df.Q24.replace({\"$0-999\": \"0-999\", \"> $500,000\": \"500,000-1,000,000\"}).str.replace(\",\", \"\")\n",
    "\n",
    "# Column: \"Time from Start to Finish (seconds)\" contains integers. Let's cast it and rename it to something more convenient\n",
    "df = df.rename(columns={\"Time from Start to Finish (seconds)\": \"duration\"})\n",
    "df[\"duration\"] = df[\"duration\"].apply(int)\n",
    "df.head(2)\n",
    "df.tail(2)"
   ]
  },
  {
   "cell_type": "code",
   "execution_count": null,
   "metadata": {},
   "outputs": [],
   "source": [
    "## Investigate duration\n",
    "#\n",
    "# Some people were too quick in completing the survey and their answers should be ignored.\n",
    "# Nevertheless, coming up with a reasonable \"cut-off\" threshold is not that easy though.\n",
    "df.duration.nsmallest(200, keep=\"all\")"
   ]
  },
  {
   "cell_type": "code",
   "execution_count": null,
   "metadata": {},
   "outputs": [],
   "source": [
    "# Unfortunately, there had been participants who did not answer any non-demographic questions.\n",
    "# Let's identify them.\n",
    "# \n",
    "# Note: The non-demographic questions start from Q7 and afterwards, that's why we use:\n",
    "#     df.iloc[:, 7:]\n",
    "temp_df = df.iloc[0:, 7:]\n",
    "participants_who_did_not_answer_any_real_questions = ((temp_df == 'None') | temp_df.isnull()).all(axis=1)\n",
    "participants_who_did_not_answer_any_real_questions"
   ]
  },
  {
   "cell_type": "code",
   "execution_count": null,
   "metadata": {},
   "outputs": [],
   "source": [
    "# Let's drop these participants.\n",
    "if len(participants_who_did_not_answer_any_real_questions) != len(df):\n",
    "    print(\"rows already dropped!\")\n",
    "else:\n",
    "    df = df[~participants_who_did_not_answer_any_real_questions].reset_index(drop=True)\n",
    "df.tail(2)"
   ]
  },
  {
   "cell_type": "code",
   "execution_count": null,
   "metadata": {},
   "outputs": [],
   "source": [
    "# After the drops, the duration seems to be much more reasonable. \n",
    "# Using a threshold might still make some sense, but probably not much point in further investigating this.\n",
    "df.duration.nsmallest(500, keep=\"all\")"
   ]
  },
  {
   "cell_type": "code",
   "execution_count": null,
   "metadata": {},
   "outputs": [],
   "source": [
    "# create the demographics dataframe\n",
    "demo = df[[\"Q1\", \"Q2\", \"Q3\", \"Q4\", \"Q5\", \"Q6\", 'Q15']]\n",
    "demo.columns = [\"age\", \"gender\", \"country\", \"education\", \"role\", \"code_exp\", \"ml_exp\"]\n",
    "demo = demo.assign(\n",
    "    salary=df.Q24.str.split(\"-\").str[-1].astype(float).astype(pd.Int64Dtype()),\n",
    "    code_exp=df.Q6.replace({\n",
    "        \"< 1 years\": 1,\n",
    "        \"1-2 years\": 2,\n",
    "        \"3-5 years\": 5,\n",
    "        \"5-10 years\": 10,\n",
    "        \"10-20 years\": 20,\n",
    "        \"20+ years\": 20,\n",
    "        \"I have never written code\": 0,\n",
    "    }).astype(pd.Int64Dtype()),\n",
    "    ml_exp=df.Q15.replace({\n",
    "        \"I do not use machine learning methods\": 0,\n",
    "        \"Under 1 year\": 1,\n",
    "        \"1-2 years\": 2,\n",
    "        \"2-3 years\": 3,\n",
    "        \"3-4 years\": 4,\n",
    "        \"4-5 years\": 5,\n",
    "        \"5-10 years\": 10,\n",
    "        \"10-20 years\": 20,\n",
    "        \"20 or more years\": 20,\n",
    "        \"I have never written code\": 0,\n",
    "    }).astype(pd.Int64Dtype()),\n",
    ")\n",
    "\n",
    "demo.tail(2)\n",
    "demo.info()"
   ]
  }
 ],
 "metadata": {
  "kernelspec": {
   "display_name": "Python 3",
   "language": "python",
   "name": "python3"
  },
  "language_info": {
   "codemirror_mode": {
    "name": "ipython",
    "version": 3
   },
   "file_extension": ".py",
   "mimetype": "text/x-python",
   "name": "python",
   "nbconvert_exporter": "python",
   "pygments_lexer": "ipython3",
   "version": "3.8.6"
  }
 },
 "nbformat": 4,
 "nbformat_minor": 4
}
