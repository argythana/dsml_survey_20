{
 "cells": [
  {
   "cell_type": "markdown",
   "metadata": {},
   "source": [
    "# Submission Notebook"
   ]
  },
  {
   "cell_type": "code",
   "execution_count": 1,
   "metadata": {},
   "outputs": [],
   "source": [
    "import pandas as pd"
   ]
  },
  {
   "cell_type": "code",
   "execution_count": 2,
   "metadata": {},
   "outputs": [],
   "source": [
    "orig = pd.read_csv(\"../data/kaggle_survey_2020_responses.csv\", low_memory=False)"
   ]
  },
  {
   "cell_type": "markdown",
   "metadata": {},
   "source": [
    "# 1) First part: tidy data"
   ]
  },
  {
   "cell_type": "code",
   "execution_count": 3,
   "metadata": {},
   "outputs": [],
   "source": [
    "# the first row contains the question. # This is useful to read but it is not actual data:\n",
    "df = orig.loc[1:]\n",
    "# df.head(2)"
   ]
  },
  {
   "cell_type": "code",
   "execution_count": 11,
   "metadata": {},
   "outputs": [
    {
     "data": {
      "text/html": [
       "<div>\n",
       "<style scoped>\n",
       "    .dataframe tbody tr th:only-of-type {\n",
       "        vertical-align: middle;\n",
       "    }\n",
       "\n",
       "    .dataframe tbody tr th {\n",
       "        vertical-align: top;\n",
       "    }\n",
       "\n",
       "    .dataframe thead th {\n",
       "        text-align: right;\n",
       "    }\n",
       "</style>\n",
       "<table border=\"1\" class=\"dataframe\">\n",
       "  <thead>\n",
       "    <tr style=\"text-align: right;\">\n",
       "      <th></th>\n",
       "      <th>age</th>\n",
       "      <th>gender</th>\n",
       "      <th>country</th>\n",
       "      <th>education</th>\n",
       "      <th>role</th>\n",
       "      <th>experience</th>\n",
       "    </tr>\n",
       "  </thead>\n",
       "  <tbody>\n",
       "    <tr>\n",
       "      <th>1</th>\n",
       "      <td>35-39</td>\n",
       "      <td>Man</td>\n",
       "      <td>Colombia</td>\n",
       "      <td>Doctoral degree</td>\n",
       "      <td>Student</td>\n",
       "      <td>5-10 years</td>\n",
       "    </tr>\n",
       "    <tr>\n",
       "      <th>2</th>\n",
       "      <td>30-34</td>\n",
       "      <td>Man</td>\n",
       "      <td>United States of America</td>\n",
       "      <td>Master’s degree</td>\n",
       "      <td>Data Engineer</td>\n",
       "      <td>5-10 years</td>\n",
       "    </tr>\n",
       "  </tbody>\n",
       "</table>\n",
       "</div>"
      ],
      "text/plain": [
       "     age gender                   country        education           role  \\\n",
       "1  35-39    Man                  Colombia  Doctoral degree        Student   \n",
       "2  30-34    Man  United States of America  Master’s degree  Data Engineer   \n",
       "\n",
       "   experience  \n",
       "1  5-10 years  \n",
       "2  5-10 years  "
      ]
     },
     "execution_count": 11,
     "metadata": {},
     "output_type": "execute_result"
    }
   ],
   "source": [
    "# Create background dataframes. Faster, efficient, better looking\n",
    "# For and dataset that you plan to work on more than a day: Chose appropriate column names\n",
    "demographics = df[[\"Q1\", \"Q2\", \"Q3\", \"Q4\", \"Q5\", \"Q6\", \"Q15\"]]\n",
    "demographics.columns = [\"age\", \"gender\", \"country\", \"education\", \"role\", \"code experience\"]\n",
    "demographics.head(2)"
   ]
  },
  {
   "cell_type": "markdown",
   "metadata": {},
   "source": [
    "### According to the Manual, the Survey essentially contains four parts.\n",
    "\n",
    "First part is six general primary demographic (sample identification) questions (Q1 to Q6). In questionnaire surveys, such question help identify the characteristics on the population that may explain other features. Primary demographic variables amy provide info about secondary exlonatory variables (could be examined from a dependent and explonatory point of view) and variables that we might want to treat as depedent variables.\n",
    "\n",
    "The second part contains two subparts:\n",
    "a) 5 general questions about software tools:\n",
    "\n",
    "    Q7 and Q8: programming language, Q9: IDE,\n",
    "    Q10:hosted notebook products, Important note: Not all free and we should expect to gain different info from the different categories.\n",
    "    and Q14: Data Visualization Libraries\n",
    "\n",
    "and 3 general questions about hardware Q11: Computing platform, Q12: types of specalized hardware, Q13 More Specialized Hardware (TPU). \n",
    "To the extend that such question may overlap, they may be used to assess the quality of the answer, whether this is intented by desing or not.\n",
    "\n",
    "The third part focuses on ML.\n",
    "    \n",
    "    Q15 is ML experience which may be grouped together with other general demopraphic variables.\n",
    "    Q16: is about ML libraries which may be also grouped together with programming software questions.\n",
    "    Q17: is about ML Algos in general\n",
    "    Q18: is about Computer vision (subset of Q17)\n",
    "    Q19: is about NLP methods (subset of Q17)\n",
    "\n",
    "The fourth part is about Company of employment and work demographics:\n",
    "    \n",
    "    Q20: Company size\n",
    "    Q21: Company DS time\n",
    "    Q22: Company and ML methods employment\n",
    "    Q23: Job role\n",
    "\n",
    "The 5th part is compensation and cost:\n",
    "    \n",
    "    Q24: Your compensation = employers cost.\n",
    "    Q25: ML and cloud computing services cost.\n",
    "    Q26-A:\n",
    "    \n",
    "\n",
    "    \n",
    "\n"
   ]
  },
  {
   "cell_type": "code",
   "execution_count": 5,
   "metadata": {},
   "outputs": [],
   "source": [
    "# Create functions for reuseable code:\n",
    "# Function to join multiple choice columns\n",
    "def filter_df(df, question_index):\n",
    "    columns = [col for col in df.columns if col.startswith(f\"Q{question_index}_\")]\n",
    "    df = df.loc[1:][columns].fillna(False)\n",
    "    unique_values = []\n",
    "    for column in columns:\n",
    "        column_unique = list(df[column].unique())\n",
    "        column_unique.remove(False)\n",
    "        unique_values.append(column_unique[0])\n",
    "    filtered_df = df.replace(to_replace=unique_values, value=True)\n",
    "    filtered_df.columns = [value.strip() for value in unique_values]\n",
    "    return filtered_df"
   ]
  },
  {
   "cell_type": "code",
   "execution_count": 6,
   "metadata": {},
   "outputs": [],
   "source": [
    "prog = filter_df(df, 7)\n",
    "# prog"
   ]
  },
  {
   "cell_type": "code",
   "execution_count": 7,
   "metadata": {},
   "outputs": [],
   "source": [
    "# We will usually want to join one or more of the filtered dataframes to the background one:\n",
    "def join_dfs(left: pd.DataFrame, right: pd.DataFrame) -> pd.DataFrame:\n",
    "    df = pd.concat([left, right], axis=1, ignore_index=False)\n",
    "    return df"
   ]
  },
  {
   "cell_type": "code",
   "execution_count": 8,
   "metadata": {},
   "outputs": [
    {
     "data": {
      "text/html": [
       "<div>\n",
       "<style scoped>\n",
       "    .dataframe tbody tr th:only-of-type {\n",
       "        vertical-align: middle;\n",
       "    }\n",
       "\n",
       "    .dataframe tbody tr th {\n",
       "        vertical-align: top;\n",
       "    }\n",
       "\n",
       "    .dataframe thead th {\n",
       "        text-align: right;\n",
       "    }\n",
       "</style>\n",
       "<table border=\"1\" class=\"dataframe\">\n",
       "  <thead>\n",
       "    <tr style=\"text-align: right;\">\n",
       "      <th></th>\n",
       "      <th>age</th>\n",
       "      <th>gender</th>\n",
       "      <th>country</th>\n",
       "      <th>education</th>\n",
       "      <th>title</th>\n",
       "      <th>experience</th>\n",
       "      <th>Python</th>\n",
       "      <th>R</th>\n",
       "      <th>SQL</th>\n",
       "      <th>C</th>\n",
       "      <th>C++</th>\n",
       "      <th>Java</th>\n",
       "      <th>Javascript</th>\n",
       "      <th>Julia</th>\n",
       "      <th>Swift</th>\n",
       "      <th>Bash</th>\n",
       "      <th>MATLAB</th>\n",
       "      <th>None</th>\n",
       "      <th>Other</th>\n",
       "    </tr>\n",
       "  </thead>\n",
       "  <tbody>\n",
       "    <tr>\n",
       "      <th>1</th>\n",
       "      <td>35-39</td>\n",
       "      <td>Man</td>\n",
       "      <td>Colombia</td>\n",
       "      <td>Doctoral degree</td>\n",
       "      <td>Student</td>\n",
       "      <td>5-10 years</td>\n",
       "      <td>True</td>\n",
       "      <td>True</td>\n",
       "      <td>True</td>\n",
       "      <td>True</td>\n",
       "      <td>False</td>\n",
       "      <td>False</td>\n",
       "      <td>True</td>\n",
       "      <td>False</td>\n",
       "      <td>False</td>\n",
       "      <td>False</td>\n",
       "      <td>True</td>\n",
       "      <td>False</td>\n",
       "      <td>True</td>\n",
       "    </tr>\n",
       "    <tr>\n",
       "      <th>2</th>\n",
       "      <td>30-34</td>\n",
       "      <td>Man</td>\n",
       "      <td>United States of America</td>\n",
       "      <td>Master’s degree</td>\n",
       "      <td>Data Engineer</td>\n",
       "      <td>5-10 years</td>\n",
       "      <td>True</td>\n",
       "      <td>True</td>\n",
       "      <td>True</td>\n",
       "      <td>False</td>\n",
       "      <td>False</td>\n",
       "      <td>False</td>\n",
       "      <td>False</td>\n",
       "      <td>False</td>\n",
       "      <td>False</td>\n",
       "      <td>False</td>\n",
       "      <td>False</td>\n",
       "      <td>False</td>\n",
       "      <td>False</td>\n",
       "    </tr>\n",
       "    <tr>\n",
       "      <th>3</th>\n",
       "      <td>35-39</td>\n",
       "      <td>Man</td>\n",
       "      <td>Argentina</td>\n",
       "      <td>Bachelor’s degree</td>\n",
       "      <td>Software Engineer</td>\n",
       "      <td>10-20 years</td>\n",
       "      <td>False</td>\n",
       "      <td>False</td>\n",
       "      <td>False</td>\n",
       "      <td>False</td>\n",
       "      <td>False</td>\n",
       "      <td>True</td>\n",
       "      <td>True</td>\n",
       "      <td>False</td>\n",
       "      <td>False</td>\n",
       "      <td>True</td>\n",
       "      <td>False</td>\n",
       "      <td>False</td>\n",
       "      <td>False</td>\n",
       "    </tr>\n",
       "  </tbody>\n",
       "</table>\n",
       "</div>"
      ],
      "text/plain": [
       "     age gender                   country          education  \\\n",
       "1  35-39    Man                  Colombia    Doctoral degree   \n",
       "2  30-34    Man  United States of America    Master’s degree   \n",
       "3  35-39    Man                 Argentina  Bachelor’s degree   \n",
       "\n",
       "               title   experience  Python      R    SQL      C    C++   Java  \\\n",
       "1            Student   5-10 years    True   True   True   True  False  False   \n",
       "2      Data Engineer   5-10 years    True   True   True  False  False  False   \n",
       "3  Software Engineer  10-20 years   False  False  False  False  False   True   \n",
       "\n",
       "   Javascript  Julia  Swift   Bash  MATLAB   None  Other  \n",
       "1        True  False  False  False    True  False   True  \n",
       "2       False  False  False  False   False  False  False  \n",
       "3        True  False  False   True   False  False  False  "
      ]
     },
     "execution_count": 8,
     "metadata": {},
     "output_type": "execute_result"
    }
   ],
   "source": [
    "prog = join_dfs(demographics, prog)\n",
    "prog.head(3)"
   ]
  },
  {
   "cell_type": "markdown",
   "metadata": {},
   "source": [
    "# Comments Section (draft, unordered, raw)"
   ]
  },
  {
   "cell_type": "markdown",
   "metadata": {},
   "source": [
    "First remarks on Age:\n",
    "Age groups could perhaps be left for competitors to construct.\n",
    "Data could be presented as answered. It is interesting to see the large number of the 20-21 class, but some useful information may be lost.\n",
    "\n",
    "Even more problematic:\n",
    "There are 7 bins (25-29 until 55-59) that contain 5year-periods, one bin 60-69 that includes 10 years and 70+. While it is interesting that there are 76 responses 70 or more year olds, we do not have the max, which I find disappointing because you know, we all need some inspiration!\n",
    "The real interesting part though is why the bin 18-21 includes 4 years and bin 22-24 includes only 3 ?\n",
    "\n",
    "What would be the age distribution be if we had an equal length bin 20-24 and a bin under 20 ?\n",
    "Let us explore this idea:\n",
    "First of all, it is easy to show that the largest group would be 20 to 24 by a wide margin.\n",
    "And this is a very interesting result on which all other info has to be conditioned upon.\n",
    "First I will show that under all assumptions this assumption about the 20-25 age stands.\n",
    "\n",
    "If 18-21 are evenly  distributed: => more or less 1156 per year => 2300 20 and 21 => age group: 20-24 = 3786 + 2300 = 6000 !"
   ]
  },
  {
   "cell_type": "markdown",
   "metadata": {},
   "source": [
    "It seems that Q4 is another case where the data are a root of possible errors.\n",
    "The question is stated in way a that groups together those who have a degree and those who plan to attain one.\n",
    "\n",
    "Therefore, it would be a major mistake to reach to robust conclusions about the relation about the educational level and other variable such as salary or position.\n",
    "\n",
    "A mere intention to attain a degree may convey useful information about job position or salary, but that  certainly would not have the same effects as having one.\n",
    "\n",
    "Arguably, Q4 could be split to two distinct questions, since it contains two distinct question.\n",
    "\n",
    "In any case, Q4 poses the second riddle that we need to explore. How can we tell who has a degree and who hasn't by exploring the data?\n",
    "\n",
    "Once, we have that then we could make meaningful explorations about the educational level and its relation to other variables. "
   ]
  },
  {
   "cell_type": "code",
   "execution_count": null,
   "metadata": {},
   "outputs": [],
   "source": []
  }
 ],
 "metadata": {
  "kernelspec": {
   "display_name": "Python 3",
   "language": "python",
   "name": "python3"
  },
  "language_info": {
   "codemirror_mode": {
    "name": "ipython",
    "version": 3
   },
   "file_extension": ".py",
   "mimetype": "text/x-python",
   "name": "python",
   "nbconvert_exporter": "python",
   "pygments_lexer": "ipython3",
   "version": "3.8.5"
  }
 },
 "nbformat": 4,
 "nbformat_minor": 4
}
