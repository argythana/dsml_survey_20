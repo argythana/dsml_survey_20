{
 "cells": [
  {
   "cell_type": "code",
   "execution_count": 1,
   "metadata": {},
   "outputs": [
    {
     "data": {
      "text/html": [
       "<style>.container { width:100% !important; }</style>"
      ],
      "text/plain": [
       "<IPython.core.display.HTML object>"
      ]
     },
     "metadata": {},
     "output_type": "display_data"
    }
   ],
   "source": [
    "import matplotlib as mpl\n",
    "import matplotlib.pyplot as plt\n",
    "import numpy as np\n",
    "import pandas as pd\n",
    "import seaborn as sns\n",
    "import xarray as xa\n",
    "\n",
    "from typing import List\n",
    "\n",
    "from IPython.core.display import display, HTML\n",
    "\n",
    "np.set_printoptions(linewidth=200)\n",
    "pd.options.display.max_columns = None\n",
    "display(HTML(\"<style>.container { width:100% !important; }</style>\"))"
   ]
  },
  {
   "cell_type": "markdown",
   "metadata": {},
   "source": [
    "# Part A: Prepare the dataset"
   ]
  },
  {
   "cell_type": "markdown",
   "metadata": {},
   "source": [
    "## A1. Load the necessary datasetes and make initial improvements"
   ]
  },
  {
   "cell_type": "code",
   "execution_count": 2,
   "metadata": {},
   "outputs": [],
   "source": [
    "# load the original Kaggle Survey dataset.\n",
    "orig = pd.read_csv('../data/kaggle_survey_2020_responses.csv', low_memory=False)\n",
    "# the first row contains the question. This is useful to read but,\n",
    "questions = orig.loc[0].reset_index(drop=True)\n",
    "# It can be better read like:\n",
    "# questions[21]\n",
    "# The question is not the data we want to explore,\n",
    "#so we discard it from the df we will work on.\n",
    "df = orig.loc[1:].reset_index(drop=True)"
   ]
  },
  {
   "cell_type": "code",
   "execution_count": 3,
   "metadata": {},
   "outputs": [
    {
     "data": {
      "text/plain": [
       "array(['Low income', 'Upper middle income', 'Lower middle income', 'High income'], dtype=object)"
      ]
     },
     "execution_count": 3,
     "metadata": {},
     "output_type": "execute_result"
    }
   ],
   "source": [
    "# Load countries' income groups from World Bank\n",
    "country_groups = pd.read_csv('../data/wb_country_income_groups.csv')\n",
    "country_groups.rename(columns={'Economy': 'country', 'Income group': 'group'}, inplace=True)\n",
    "country_groups.head()\n",
    "country_groups.group.unique()"
   ]
  },
  {
   "cell_type": "code",
   "execution_count": 4,
   "metadata": {},
   "outputs": [],
   "source": [
    "# Load mean nominal wage data from International Labor Organization\n",
    "ilo_mean_wage = pd.read_csv('../data/ilo_mean_nom_wage_usd.csv')\n",
    "ilo_mean_wage.drop(['Source', 'Sex', 'Economic activity', 'Currency'], axis=1, inplace=True)\n",
    "ilo_mean_wage.rename(columns={'Country': 'country', 'Value': 'monthly_earnings', 'Year': 'year'}, inplace=True)"
   ]
  },
  {
   "cell_type": "code",
   "execution_count": 5,
   "metadata": {},
   "outputs": [],
   "source": [
    "# set an approximation for India\n",
    "# https://www.numbeo.com/cost-of-living/country_price_rankings?itemId=105\n",
    "#in_india_wage = pd.DataFrame([['India', int(2019), int(446)]], columns=list(ilo_mean_wage.columns))\n",
    "#ilo_mean_wage = ilo_mean_wage.append(in_india_wage)\n",
    "\n",
    "ilo_mean_wage['yearly_earnings'] = ilo_mean_wage['monthly_earnings'] * 12\n",
    "\n",
    "# sort by max year and drop duplicates\n",
    "# df[df.groupby('ID')['date'].transform('max') == df['date']]\n",
    "# https://stackoverflow.com/questions/53199076/grab-rows-with-max-date-from-pandas-dataframe\n",
    "ilo_mean_wage = ilo_mean_wage.loc[ilo_mean_wage.groupby('country').year.idxmax()].reset_index()\n",
    "ilo_mean_wage = ilo_mean_wage.set_index('country')"
   ]
  },
  {
   "cell_type": "code",
   "execution_count": 6,
   "metadata": {},
   "outputs": [
    {
     "data": {
      "text/html": [
       "<div>\n",
       "<style scoped>\n",
       "    .dataframe tbody tr th:only-of-type {\n",
       "        vertical-align: middle;\n",
       "    }\n",
       "\n",
       "    .dataframe tbody tr th {\n",
       "        vertical-align: top;\n",
       "    }\n",
       "\n",
       "    .dataframe thead th {\n",
       "        text-align: right;\n",
       "    }\n",
       "</style>\n",
       "<table border=\"1\" class=\"dataframe\">\n",
       "  <thead>\n",
       "    <tr style=\"text-align: right;\">\n",
       "      <th></th>\n",
       "      <th>index</th>\n",
       "      <th>year</th>\n",
       "      <th>monthly_earnings</th>\n",
       "      <th>yearly_earnings</th>\n",
       "    </tr>\n",
       "    <tr>\n",
       "      <th>country</th>\n",
       "      <th></th>\n",
       "      <th></th>\n",
       "      <th></th>\n",
       "      <th></th>\n",
       "    </tr>\n",
       "  </thead>\n",
       "  <tbody>\n",
       "    <tr>\n",
       "      <th>Benin</th>\n",
       "      <td>49</td>\n",
       "      <td>2011</td>\n",
       "      <td>0.2</td>\n",
       "      <td>2.4</td>\n",
       "    </tr>\n",
       "    <tr>\n",
       "      <th>Kyrgyzstan</th>\n",
       "      <td>386</td>\n",
       "      <td>2018</td>\n",
       "      <td>17.9</td>\n",
       "      <td>214.8</td>\n",
       "    </tr>\n",
       "    <tr>\n",
       "      <th>Burundi</th>\n",
       "      <td>43</td>\n",
       "      <td>2014</td>\n",
       "      <td>41.4</td>\n",
       "      <td>496.8</td>\n",
       "    </tr>\n",
       "    <tr>\n",
       "      <th>Rwanda</th>\n",
       "      <td>626</td>\n",
       "      <td>2017</td>\n",
       "      <td>68.2</td>\n",
       "      <td>818.4</td>\n",
       "    </tr>\n",
       "    <tr>\n",
       "      <th>Madagascar</th>\n",
       "      <td>465</td>\n",
       "      <td>2015</td>\n",
       "      <td>71.4</td>\n",
       "      <td>856.8</td>\n",
       "    </tr>\n",
       "    <tr>\n",
       "      <th>Ethiopia</th>\n",
       "      <td>229</td>\n",
       "      <td>2013</td>\n",
       "      <td>72.4</td>\n",
       "      <td>868.8</td>\n",
       "    </tr>\n",
       "  </tbody>\n",
       "</table>\n",
       "</div>"
      ],
      "text/plain": [
       "            index  year  monthly_earnings  yearly_earnings\n",
       "country                                                   \n",
       "Benin          49  2011               0.2              2.4\n",
       "Kyrgyzstan    386  2018              17.9            214.8\n",
       "Burundi        43  2014              41.4            496.8\n",
       "Rwanda        626  2017              68.2            818.4\n",
       "Madagascar    465  2015              71.4            856.8\n",
       "Ethiopia      229  2013              72.4            868.8"
      ]
     },
     "execution_count": 6,
     "metadata": {},
     "output_type": "execute_result"
    }
   ],
   "source": [
    "ilo_mean_wage.sort_values(by='monthly_earnings')[:6]"
   ]
  },
  {
   "cell_type": "code",
   "execution_count": 7,
   "metadata": {},
   "outputs": [],
   "source": [
    "# load euro usd exchange rate\n",
    "usd_euro_rate = pd.read_csv('../data/ecb_usd_euro_avg_exch_rate_filtered.csv', header=None)\n",
    "# usd_euro_rate.head(6)\n",
    "# float(usd_euro_rate.iloc[5][1])"
   ]
  },
  {
   "cell_type": "code",
   "execution_count": 8,
   "metadata": {},
   "outputs": [],
   "source": [
    "# Load mean nominal wage data from International Labor Organization\n",
    "eurostat_mean_earnings = pd.read_csv('../data/eurostat_gross_earnings_euros_2019_filtered.csv')\n",
    "# eurostat_mean_earnings['gross_earn_2019_euros'] = eurostat_mean_earnings['gross_2019_euros'].str.replace(',', '')\n",
    "eurostat_mean_earnings['yearly_earnings'] = (eurostat_mean_earnings['gross_2019_euros'].astype(float)) * float(usd_euro_rate.iloc[5][1])\n",
    "eurostat_mean_earnings = eurostat_mean_earnings.set_index('country')"
   ]
  },
  {
   "cell_type": "code",
   "execution_count": 9,
   "metadata": {},
   "outputs": [],
   "source": [
    "oecd_mean_wage = pd.read_csv('../data/oecd_ann_avg_wage_2019.csv')\n",
    "oecd_mean_wage = oecd_mean_wage.set_index('country')"
   ]
  },
  {
   "cell_type": "code",
   "execution_count": 10,
   "metadata": {},
   "outputs": [
    {
     "data": {
      "text/html": [
       "<div>\n",
       "<style scoped>\n",
       "    .dataframe tbody tr th:only-of-type {\n",
       "        vertical-align: middle;\n",
       "    }\n",
       "\n",
       "    .dataframe tbody tr th {\n",
       "        vertical-align: top;\n",
       "    }\n",
       "\n",
       "    .dataframe thead th {\n",
       "        text-align: right;\n",
       "    }\n",
       "</style>\n",
       "<table border=\"1\" class=\"dataframe\">\n",
       "  <thead>\n",
       "    <tr style=\"text-align: right;\">\n",
       "      <th></th>\n",
       "      <th>yearly_earnings</th>\n",
       "    </tr>\n",
       "    <tr>\n",
       "      <th>country</th>\n",
       "      <th></th>\n",
       "    </tr>\n",
       "  </thead>\n",
       "  <tbody>\n",
       "    <tr>\n",
       "      <th>Australia</th>\n",
       "      <td>54401.425296</td>\n",
       "    </tr>\n",
       "    <tr>\n",
       "      <th>Austria</th>\n",
       "      <td>53902.949045</td>\n",
       "    </tr>\n",
       "    <tr>\n",
       "      <th>Belgium</th>\n",
       "      <td>55590.130461</td>\n",
       "    </tr>\n",
       "  </tbody>\n",
       "</table>\n",
       "</div>"
      ],
      "text/plain": [
       "           yearly_earnings\n",
       "country                   \n",
       "Australia     54401.425296\n",
       "Austria       53902.949045\n",
       "Belgium       55590.130461"
      ]
     },
     "execution_count": 10,
     "metadata": {},
     "output_type": "execute_result"
    }
   ],
   "source": [
    "oecd_mean_wage.head(3)"
   ]
  },
  {
   "cell_type": "code",
   "execution_count": 11,
   "metadata": {},
   "outputs": [],
   "source": [
    "# Load mean nominal wage data from International Labor Organization\n",
    "numbeo_mean_wage = pd.read_csv(\"../data/numbeo.csv\")\n",
    "numbeo_mean_wage = numbeo_mean_wage.assign(year=2019)\n",
    "numbeo_mean_wage['yearly_earnings'] = numbeo_mean_wage['monthly_earnings'] * 12\n",
    "numbeo_mean_wage = numbeo_mean_wage.set_index('country')"
   ]
  },
  {
   "cell_type": "code",
   "execution_count": 12,
   "metadata": {},
   "outputs": [],
   "source": [
    "# Is this syntantic sugar optimal?\n",
    "wages_data = pd.concat([\n",
    "    eurostat_mean_earnings['yearly_earnings'],\n",
    "     oecd_mean_wage['yearly_earnings'],\n",
    "     ilo_mean_wage['yearly_earnings'],\n",
    "     numbeo_mean_wage['yearly_earnings']\n",
    "],\n",
    "    axis=1,\n",
    "    keys=['eurostat_mean_earnings',\n",
    "          'oecd_mean_wage',\n",
    "          'ilo_mean_wage',\n",
    "          'numbeo_mean_wage']\n",
    ")\n",
    "\n",
    "\n",
    "wages_data = wages_data.reset_index(level=0).rename(columns={'index': 'country'})"
   ]
  },
  {
   "cell_type": "code",
   "execution_count": 13,
   "metadata": {},
   "outputs": [
    {
     "data": {
      "text/html": [
       "<div>\n",
       "<style scoped>\n",
       "    .dataframe tbody tr th:only-of-type {\n",
       "        vertical-align: middle;\n",
       "    }\n",
       "\n",
       "    .dataframe tbody tr th {\n",
       "        vertical-align: top;\n",
       "    }\n",
       "\n",
       "    .dataframe thead th {\n",
       "        text-align: right;\n",
       "    }\n",
       "</style>\n",
       "<table border=\"1\" class=\"dataframe\">\n",
       "  <thead>\n",
       "    <tr style=\"text-align: right;\">\n",
       "      <th></th>\n",
       "      <th>country</th>\n",
       "      <th>eurostat_mean_earnings</th>\n",
       "      <th>oecd_mean_wage</th>\n",
       "      <th>ilo_mean_wage</th>\n",
       "      <th>numbeo_mean_wage</th>\n",
       "    </tr>\n",
       "  </thead>\n",
       "  <tbody>\n",
       "    <tr>\n",
       "      <th>0</th>\n",
       "      <td>Belgium</td>\n",
       "      <td>55488.084670</td>\n",
       "      <td>55590.130461</td>\n",
       "      <td>41056.8</td>\n",
       "      <td>28795.32</td>\n",
       "    </tr>\n",
       "    <tr>\n",
       "      <th>1</th>\n",
       "      <td>Bulgaria</td>\n",
       "      <td>8699.880790</td>\n",
       "      <td>NaN</td>\n",
       "      <td>8299.2</td>\n",
       "      <td>7929.84</td>\n",
       "    </tr>\n",
       "    <tr>\n",
       "      <th>2</th>\n",
       "      <td>Czechia</td>\n",
       "      <td>17826.526175</td>\n",
       "      <td>NaN</td>\n",
       "      <td>18601.2</td>\n",
       "      <td>NaN</td>\n",
       "    </tr>\n",
       "    <tr>\n",
       "      <th>3</th>\n",
       "      <td>Denmark</td>\n",
       "      <td>64161.287775</td>\n",
       "      <td>57149.594306</td>\n",
       "      <td>NaN</td>\n",
       "      <td>43336.92</td>\n",
       "    </tr>\n",
       "    <tr>\n",
       "      <th>4</th>\n",
       "      <td>Germany</td>\n",
       "      <td>58420.771650</td>\n",
       "      <td>53637.801603</td>\n",
       "      <td>59108.4</td>\n",
       "      <td>33441.96</td>\n",
       "    </tr>\n",
       "    <tr>\n",
       "      <th>...</th>\n",
       "      <td>...</td>\n",
       "      <td>...</td>\n",
       "      <td>...</td>\n",
       "      <td>...</td>\n",
       "      <td>...</td>\n",
       "    </tr>\n",
       "    <tr>\n",
       "      <th>161</th>\n",
       "      <td>Kenya</td>\n",
       "      <td>NaN</td>\n",
       "      <td>NaN</td>\n",
       "      <td>NaN</td>\n",
       "      <td>4654.56</td>\n",
       "    </tr>\n",
       "    <tr>\n",
       "      <th>162</th>\n",
       "      <td>Iran</td>\n",
       "      <td>NaN</td>\n",
       "      <td>NaN</td>\n",
       "      <td>NaN</td>\n",
       "      <td>4117.20</td>\n",
       "    </tr>\n",
       "    <tr>\n",
       "      <th>163</th>\n",
       "      <td>Moldova</td>\n",
       "      <td>NaN</td>\n",
       "      <td>NaN</td>\n",
       "      <td>NaN</td>\n",
       "      <td>3877.44</td>\n",
       "    </tr>\n",
       "    <tr>\n",
       "      <th>164</th>\n",
       "      <td>Tunisia</td>\n",
       "      <td>NaN</td>\n",
       "      <td>NaN</td>\n",
       "      <td>NaN</td>\n",
       "      <td>3610.92</td>\n",
       "    </tr>\n",
       "    <tr>\n",
       "      <th>165</th>\n",
       "      <td>Algeria</td>\n",
       "      <td>NaN</td>\n",
       "      <td>NaN</td>\n",
       "      <td>NaN</td>\n",
       "      <td>3193.80</td>\n",
       "    </tr>\n",
       "  </tbody>\n",
       "</table>\n",
       "<p>166 rows × 5 columns</p>\n",
       "</div>"
      ],
      "text/plain": [
       "      country  eurostat_mean_earnings  oecd_mean_wage  ilo_mean_wage  \\\n",
       "0     Belgium            55488.084670    55590.130461        41056.8   \n",
       "1    Bulgaria             8699.880790             NaN         8299.2   \n",
       "2     Czechia            17826.526175             NaN        18601.2   \n",
       "3     Denmark            64161.287775    57149.594306            NaN   \n",
       "4     Germany            58420.771650    53637.801603        59108.4   \n",
       "..        ...                     ...             ...            ...   \n",
       "161     Kenya                     NaN             NaN            NaN   \n",
       "162      Iran                     NaN             NaN            NaN   \n",
       "163   Moldova                     NaN             NaN            NaN   \n",
       "164   Tunisia                     NaN             NaN            NaN   \n",
       "165   Algeria                     NaN             NaN            NaN   \n",
       "\n",
       "     numbeo_mean_wage  \n",
       "0            28795.32  \n",
       "1             7929.84  \n",
       "2                 NaN  \n",
       "3            43336.92  \n",
       "4            33441.96  \n",
       "..                ...  \n",
       "161           4654.56  \n",
       "162           4117.20  \n",
       "163           3877.44  \n",
       "164           3610.92  \n",
       "165           3193.80  \n",
       "\n",
       "[166 rows x 5 columns]"
      ]
     },
     "execution_count": 13,
     "metadata": {},
     "output_type": "execute_result"
    }
   ],
   "source": [
    "wages_data\n",
    "\n",
    "# wages_data.country.unique()\n",
    "\n",
    "# set(df.Q3.unique()).difference(wages_data.country.unique())"
   ]
  },
  {
   "cell_type": "code",
   "execution_count": null,
   "metadata": {},
   "outputs": [],
   "source": []
  },
  {
   "cell_type": "code",
   "execution_count": null,
   "metadata": {},
   "outputs": [],
   "source": []
  },
  {
   "cell_type": "code",
   "execution_count": 14,
   "metadata": {},
   "outputs": [],
   "source": [
    "# compare_monthly_salaries = pd.merge(ilo_mean_wage.groupby(\"country\").tail(1), numbeo_avg_earn, on=[\"country\"])\n",
    "\n",
    "# compare_monthly_salaries = compare_monthly_salaries.assign(\n",
    "#     monthly_diff=np.abs(compare_monthly_salaries.monthly_earnings_x - compare_monthly_salaries.monthly_earnings_y)\n",
    "# )\n",
    "\n",
    "# compare_monthly_salaries = compare_monthly_salaries.assign(\n",
    "#     norm_diff=compare_monthly_salaries.monthly_diff / compare_monthly_salaries[[\"monthly_earnings_x\", \"monthly_earnings_y\"]\n",
    "#                                                                               ].min(axis=1) * 100)\n",
    "# compare_monthly_salaries.tail(3)\n",
    "\n",
    "# compare_monthly_salaries[compare_monthly_salaries.country == 'Poland']\n",
    "\n",
    "# compare_monthly_salaries[compare_monthly_salaries.country == 'United States']"
   ]
  },
  {
   "cell_type": "markdown",
   "metadata": {},
   "source": [
    "## A2. Define useful functions "
   ]
  },
  {
   "cell_type": "code",
   "execution_count": 15,
   "metadata": {},
   "outputs": [],
   "source": [
    "# In order to make the analysis easier, we can filter the dataframe into smaller ones \n",
    "# which will contain the data of each multiple choice question.\n",
    "# To this end, defining a function can be helpful\n",
    "def filter_df(df, question_index):\n",
    "    columns = [col for col in df.columns if col.startswith(f\"Q{question_index}_\")]\n",
    "    df = df.loc[0:][columns].fillna(False)\n",
    "    unique_values = []\n",
    "    for column in columns:\n",
    "        column_unique = list(df[column].unique())\n",
    "        column_unique.remove(False)\n",
    "        unique_values.append(column_unique[0])\n",
    "    filtered_df = df.replace(to_replace=unique_values, value=True)\n",
    "    filtered_df.columns = [value.strip() for value in unique_values]\n",
    "    return filtered_df\n",
    "\n",
    "# We will usually want to join one or more of the filtered dataframes to the background one:\n",
    "def join_dfs(*dataframes: List[pd.DataFrame]) -> pd.DataFrame:\n",
    "    df = pd.concat(dataframes, axis=1, ignore_index=False)\n",
    "    return df"
   ]
  },
  {
   "cell_type": "code",
   "execution_count": 16,
   "metadata": {},
   "outputs": [],
   "source": [
    "## Normalize data format\n",
    "# Strip whitespace from all the anwers\n",
    "# Note: Since, initially, all the columns are of dtype \"object\" We could do this simply with: \n",
    "#           df = df.apply(lambda x: x.str.strip())\n",
    "#       Nevertheless, we want to convert one column to a numeric one, so reexecuting this cell will be failing.\n",
    "#       Thus we will do this in a bit more elaborate way.\n",
    "string_cols = df.select_dtypes(object).columns\n",
    "df[string_cols] = df[string_cols].apply(lambda x: x.str.strip())"
   ]
  },
  {
   "cell_type": "markdown",
   "metadata": {},
   "source": [
    "## A3 Modify Kaggle data format to assist data exploration (column names, answers)"
   ]
  },
  {
   "cell_type": "code",
   "execution_count": 17,
   "metadata": {},
   "outputs": [],
   "source": [
    "# Column 1: \"Time from Start to Finish (seconds)\" contains integers. Let's cast it and rename it to something more convenient\n",
    "df.rename(columns={'Time from Start to Finish (seconds)': 'duration'}, inplace=True)\n",
    "df['duration'] = df['duration'].apply(int)"
   ]
  },
  {
   "cell_type": "code",
   "execution_count": 18,
   "metadata": {},
   "outputs": [],
   "source": [
    "# orig.Q24.unique() # Q24 salary\n",
    "# Remove symbols and \",\" from salary ranges.\n",
    "df.Q24 = df.Q24.replace({\n",
    "    '$0-999': '0-999',\n",
    "    '> $500,000': '500,000-999,999',\n",
    "    '300,000-500,000': '300,000-499,999', \n",
    "}).str.replace(',', '')"
   ]
  },
  {
   "cell_type": "markdown",
   "metadata": {},
   "source": [
    "#### Columns about experience have different ranges and different format. Modify format to be similar and DNRY\n",
    "#### This way, we minimize errors that may be caused by human typing,\n",
    "#### e.g. executive summary p. 10, machine learning experience class from 10-20 years is reference as 10-15 years"
   ]
  },
  {
   "cell_type": "code",
   "execution_count": 19,
   "metadata": {},
   "outputs": [
    {
     "data": {
      "text/plain": [
       "(array(['For how many years have you been writing code and/or programming?', '5-10 years', '10-20 years', '3-5 years', '< 1 years', '1-2 years', '20+ years', 'I have never written code', nan],\n",
       "       dtype=object),\n",
       " array(['For how many years have you used machine learning methods?', '1-2 years', 'I do not use machine learning methods', '3-4 years', nan, 'Under 1 year', '2-3 years', '4-5 years', '5-10 years',\n",
       "        '20 or more years', '10-20 years'], dtype=object))"
      ]
     },
     "execution_count": 19,
     "metadata": {},
     "output_type": "execute_result"
    }
   ],
   "source": [
    "orig.Q6.unique(), orig.Q15.unique()"
   ]
  },
  {
   "cell_type": "code",
   "execution_count": 20,
   "metadata": {},
   "outputs": [],
   "source": [
    "df.Q6 = df.Q6.replace({\n",
    "    '< 1 year': '< 1',\n",
    "    'I have never written code': '0'\n",
    "}).str.replace(' years', '')"
   ]
  },
  {
   "cell_type": "code",
   "execution_count": 21,
   "metadata": {},
   "outputs": [],
   "source": [
    "df.Q15 = df.Q15.replace({\n",
    "    'Under 1 year': '< 1',\n",
    "    '20 or more years': '20+',\n",
    "    'I do not use machine learning methods': '0'\n",
    "}).str.replace(' years', '')"
   ]
  },
  {
   "cell_type": "code",
   "execution_count": 22,
   "metadata": {},
   "outputs": [],
   "source": [
    "# Refine Company employment size values\n",
    "df.Q20 = df.Q20.replace({\n",
    "    '10,000 or more employees': '> 10000',\n",
    "}).str.replace(' employees', '').replace(',', '')"
   ]
  },
  {
   "cell_type": "code",
   "execution_count": 23,
   "metadata": {},
   "outputs": [],
   "source": [
    "df.Q3 = df.Q3.replace({\n",
    "    'Russia': 'Russian Federation',\n",
    "    'United States of America': 'United States',\n",
    "    'United Kingdom of Great Britain and Northern Ireland': 'United Kingdom',\n",
    "    'Iran, Islamic Republic of...': 'Iran',\n",
    "    'Republic of Korea': 'South Korea'\n",
    "})"
   ]
  },
  {
   "cell_type": "code",
   "execution_count": 24,
   "metadata": {},
   "outputs": [],
   "source": [
    "# Select useful columns for data validity exploration and rename them.\n",
    "VALIDATION_COLS_NAMES = {\n",
    "    'Q1': 'age',\n",
    "    'Q2': 'gender',\n",
    "    'Q3': 'country',\n",
    "    'Q4': 'education',\n",
    "    'Q5': 'role',\n",
    "    'Q6': 'code_exp',\n",
    "    'Q15': 'ml_exp',\n",
    "    'Q20': 'employees',\n",
    "    'Q21': 'team_ds',\n",
    "    'Q22': 'company_ml_use',\n",
    "    'Q24': 'salary',\n",
    "    'Q25': 'spend_ds'\n",
    "}\n",
    "\n",
    "df.rename(columns=VALIDATION_COLS_NAMES, inplace=True)\n",
    "\n",
    "validation_cols = [*VALIDATION_COLS_NAMES.values()]"
   ]
  },
  {
   "cell_type": "markdown",
   "metadata": {},
   "source": [
    "# Concatenate dataframe with wage data"
   ]
  },
  {
   "cell_type": "code",
   "execution_count": 25,
   "metadata": {},
   "outputs": [],
   "source": [
    "salary_thres = pd.DataFrame(\n",
    "    columns=['country', 'mean_salary', 'minimum_salary', 'below_avg_salary', 'high_to_top', 'top']\n",
    ")"
   ]
  },
  {
   "cell_type": "code",
   "execution_count": 26,
   "metadata": {},
   "outputs": [],
   "source": [
    "salary_thres.country = df.country.unique()\n",
    "salary_thres = salary_thres.merge(wages_data, on='country', how='left')"
   ]
  },
  {
   "cell_type": "code",
   "execution_count": 27,
   "metadata": {},
   "outputs": [
    {
     "data": {
      "text/plain": [
       "54"
      ]
     },
     "execution_count": 27,
     "metadata": {},
     "output_type": "execute_result"
    }
   ],
   "source": [
    "# SOS remember to use same names for eurostat, oecd, ilo, numbeo\n",
    "len(salary_thres)"
   ]
  },
  {
   "cell_type": "code",
   "execution_count": 28,
   "metadata": {},
   "outputs": [
    {
     "data": {
      "text/html": [
       "<div>\n",
       "<style scoped>\n",
       "    .dataframe tbody tr th:only-of-type {\n",
       "        vertical-align: middle;\n",
       "    }\n",
       "\n",
       "    .dataframe tbody tr th {\n",
       "        vertical-align: top;\n",
       "    }\n",
       "\n",
       "    .dataframe thead th {\n",
       "        text-align: right;\n",
       "    }\n",
       "</style>\n",
       "<table border=\"1\" class=\"dataframe\">\n",
       "  <thead>\n",
       "    <tr style=\"text-align: right;\">\n",
       "      <th></th>\n",
       "      <th>country</th>\n",
       "      <th>mean_salary</th>\n",
       "      <th>minimum_salary</th>\n",
       "      <th>below_avg_salary</th>\n",
       "      <th>high_to_top</th>\n",
       "      <th>top</th>\n",
       "      <th>eurostat_mean_earnings</th>\n",
       "      <th>oecd_mean_wage</th>\n",
       "      <th>ilo_mean_wage</th>\n",
       "      <th>numbeo_mean_wage</th>\n",
       "    </tr>\n",
       "  </thead>\n",
       "  <tbody>\n",
       "    <tr>\n",
       "      <th>0</th>\n",
       "      <td>Colombia</td>\n",
       "      <td>NaN</td>\n",
       "      <td>NaN</td>\n",
       "      <td>NaN</td>\n",
       "      <td>NaN</td>\n",
       "      <td>NaN</td>\n",
       "      <td>NaN</td>\n",
       "      <td>NaN</td>\n",
       "      <td>4777.2</td>\n",
       "      <td>3780.96</td>\n",
       "    </tr>\n",
       "    <tr>\n",
       "      <th>1</th>\n",
       "      <td>United States</td>\n",
       "      <td>NaN</td>\n",
       "      <td>NaN</td>\n",
       "      <td>NaN</td>\n",
       "      <td>NaN</td>\n",
       "      <td>NaN</td>\n",
       "      <td>57055.194355</td>\n",
       "      <td>65835.577645</td>\n",
       "      <td>50797.2</td>\n",
       "      <td>42706.20</td>\n",
       "    </tr>\n",
       "    <tr>\n",
       "      <th>2</th>\n",
       "      <td>Argentina</td>\n",
       "      <td>NaN</td>\n",
       "      <td>NaN</td>\n",
       "      <td>NaN</td>\n",
       "      <td>NaN</td>\n",
       "      <td>NaN</td>\n",
       "      <td>NaN</td>\n",
       "      <td>NaN</td>\n",
       "      <td>6370.8</td>\n",
       "      <td>5320.92</td>\n",
       "    </tr>\n",
       "    <tr>\n",
       "      <th>3</th>\n",
       "      <td>Japan</td>\n",
       "      <td>NaN</td>\n",
       "      <td>NaN</td>\n",
       "      <td>NaN</td>\n",
       "      <td>NaN</td>\n",
       "      <td>NaN</td>\n",
       "      <td>47973.754380</td>\n",
       "      <td>38617.465494</td>\n",
       "      <td>2822.4</td>\n",
       "      <td>32524.32</td>\n",
       "    </tr>\n",
       "    <tr>\n",
       "      <th>4</th>\n",
       "      <td>India</td>\n",
       "      <td>NaN</td>\n",
       "      <td>NaN</td>\n",
       "      <td>NaN</td>\n",
       "      <td>NaN</td>\n",
       "      <td>NaN</td>\n",
       "      <td>NaN</td>\n",
       "      <td>NaN</td>\n",
       "      <td>NaN</td>\n",
       "      <td>5375.88</td>\n",
       "    </tr>\n",
       "  </tbody>\n",
       "</table>\n",
       "</div>"
      ],
      "text/plain": [
       "         country mean_salary minimum_salary below_avg_salary high_to_top  top  \\\n",
       "0       Colombia         NaN            NaN              NaN         NaN  NaN   \n",
       "1  United States         NaN            NaN              NaN         NaN  NaN   \n",
       "2      Argentina         NaN            NaN              NaN         NaN  NaN   \n",
       "3          Japan         NaN            NaN              NaN         NaN  NaN   \n",
       "4          India         NaN            NaN              NaN         NaN  NaN   \n",
       "\n",
       "   eurostat_mean_earnings  oecd_mean_wage  ilo_mean_wage  numbeo_mean_wage  \n",
       "0                     NaN             NaN         4777.2           3780.96  \n",
       "1            57055.194355    65835.577645        50797.2          42706.20  \n",
       "2                     NaN             NaN         6370.8           5320.92  \n",
       "3            47973.754380    38617.465494         2822.4          32524.32  \n",
       "4                     NaN             NaN            NaN           5375.88  "
      ]
     },
     "execution_count": 28,
     "metadata": {},
     "output_type": "execute_result"
    }
   ],
   "source": [
    "salary_thres.head()"
   ]
  },
  {
   "cell_type": "code",
   "execution_count": 29,
   "metadata": {},
   "outputs": [],
   "source": [
    "# https://stackoverflow.com/questions/38965667/pandas-take-whichever-column-is-not-nan\n",
    "# df[\"COL3\"] = df[\"COL1\"].fillna(df[\"COL2\"])\n",
    "# or more speacial: https://stackoverflow.com/a/53068486\n",
    "\n",
    "# or the other way around:\n",
    "# https://stackoverflow.com/questions/37962759/how-set-values-in-pandas-dataframe-based-on-nan-values-of-another-column"
   ]
  },
  {
   "cell_type": "code",
   "execution_count": 30,
   "metadata": {},
   "outputs": [],
   "source": [
    "salary_thres['mean_salary'] = salary_thres['eurostat_mean_earnings'].fillna(salary_thres['oecd_mean_wage']).fillna(salary_thres['ilo_mean_wage']).fillna(salary_thres['numbeo_mean_wage'])"
   ]
  },
  {
   "cell_type": "markdown",
   "metadata": {},
   "source": [
    "# ^ ΠΟΣΟ ΜΑ ΠΟΣΟ ΓΑΜΑΕΙ ΤΟ PANDAS ! ^"
   ]
  },
  {
   "cell_type": "code",
   "execution_count": 31,
   "metadata": {},
   "outputs": [
    {
     "data": {
      "text/html": [
       "<div>\n",
       "<style scoped>\n",
       "    .dataframe tbody tr th:only-of-type {\n",
       "        vertical-align: middle;\n",
       "    }\n",
       "\n",
       "    .dataframe tbody tr th {\n",
       "        vertical-align: top;\n",
       "    }\n",
       "\n",
       "    .dataframe thead th {\n",
       "        text-align: right;\n",
       "    }\n",
       "</style>\n",
       "<table border=\"1\" class=\"dataframe\">\n",
       "  <thead>\n",
       "    <tr style=\"text-align: right;\">\n",
       "      <th></th>\n",
       "      <th>country</th>\n",
       "      <th>mean_salary</th>\n",
       "      <th>minimum_salary</th>\n",
       "      <th>below_avg_salary</th>\n",
       "      <th>high_to_top</th>\n",
       "      <th>top</th>\n",
       "      <th>eurostat_mean_earnings</th>\n",
       "      <th>oecd_mean_wage</th>\n",
       "      <th>ilo_mean_wage</th>\n",
       "      <th>numbeo_mean_wage</th>\n",
       "    </tr>\n",
       "  </thead>\n",
       "  <tbody>\n",
       "    <tr>\n",
       "      <th>0</th>\n",
       "      <td>Colombia</td>\n",
       "      <td>4777.200000</td>\n",
       "      <td>NaN</td>\n",
       "      <td>NaN</td>\n",
       "      <td>NaN</td>\n",
       "      <td>NaN</td>\n",
       "      <td>NaN</td>\n",
       "      <td>NaN</td>\n",
       "      <td>4777.2</td>\n",
       "      <td>3780.96</td>\n",
       "    </tr>\n",
       "    <tr>\n",
       "      <th>1</th>\n",
       "      <td>United States</td>\n",
       "      <td>57055.194355</td>\n",
       "      <td>NaN</td>\n",
       "      <td>NaN</td>\n",
       "      <td>NaN</td>\n",
       "      <td>NaN</td>\n",
       "      <td>57055.194355</td>\n",
       "      <td>65835.577645</td>\n",
       "      <td>50797.2</td>\n",
       "      <td>42706.20</td>\n",
       "    </tr>\n",
       "    <tr>\n",
       "      <th>2</th>\n",
       "      <td>Argentina</td>\n",
       "      <td>6370.800000</td>\n",
       "      <td>NaN</td>\n",
       "      <td>NaN</td>\n",
       "      <td>NaN</td>\n",
       "      <td>NaN</td>\n",
       "      <td>NaN</td>\n",
       "      <td>NaN</td>\n",
       "      <td>6370.8</td>\n",
       "      <td>5320.92</td>\n",
       "    </tr>\n",
       "    <tr>\n",
       "      <th>3</th>\n",
       "      <td>Japan</td>\n",
       "      <td>47973.754380</td>\n",
       "      <td>NaN</td>\n",
       "      <td>NaN</td>\n",
       "      <td>NaN</td>\n",
       "      <td>NaN</td>\n",
       "      <td>47973.754380</td>\n",
       "      <td>38617.465494</td>\n",
       "      <td>2822.4</td>\n",
       "      <td>32524.32</td>\n",
       "    </tr>\n",
       "    <tr>\n",
       "      <th>4</th>\n",
       "      <td>India</td>\n",
       "      <td>5375.880000</td>\n",
       "      <td>NaN</td>\n",
       "      <td>NaN</td>\n",
       "      <td>NaN</td>\n",
       "      <td>NaN</td>\n",
       "      <td>NaN</td>\n",
       "      <td>NaN</td>\n",
       "      <td>NaN</td>\n",
       "      <td>5375.88</td>\n",
       "    </tr>\n",
       "  </tbody>\n",
       "</table>\n",
       "</div>"
      ],
      "text/plain": [
       "         country   mean_salary minimum_salary below_avg_salary high_to_top  \\\n",
       "0       Colombia   4777.200000            NaN              NaN         NaN   \n",
       "1  United States  57055.194355            NaN              NaN         NaN   \n",
       "2      Argentina   6370.800000            NaN              NaN         NaN   \n",
       "3          Japan  47973.754380            NaN              NaN         NaN   \n",
       "4          India   5375.880000            NaN              NaN         NaN   \n",
       "\n",
       "   top  eurostat_mean_earnings  oecd_mean_wage  ilo_mean_wage  \\\n",
       "0  NaN                     NaN             NaN         4777.2   \n",
       "1  NaN            57055.194355    65835.577645        50797.2   \n",
       "2  NaN                     NaN             NaN         6370.8   \n",
       "3  NaN            47973.754380    38617.465494         2822.4   \n",
       "4  NaN                     NaN             NaN            NaN   \n",
       "\n",
       "   numbeo_mean_wage  \n",
       "0           3780.96  \n",
       "1          42706.20  \n",
       "2           5320.92  \n",
       "3          32524.32  \n",
       "4           5375.88  "
      ]
     },
     "execution_count": 31,
     "metadata": {},
     "output_type": "execute_result"
    }
   ],
   "source": [
    "# TO DO: create columns \"source of mean salary\" by stripping prefix where not null ?\n",
    "salary_thres.head()"
   ]
  },
  {
   "cell_type": "code",
   "execution_count": null,
   "metadata": {},
   "outputs": [],
   "source": [
    "# # create salary thresholds by country\n",
    "\n",
    "# salary_thres.yearly_earnings = salary_thres.country.map(mean_wage.set_index('country')['yearly_earnings'])\n",
    "# # df1['value'] = df1['condition'].map(df2.set_index('condition')['value'])"
   ]
  },
  {
   "cell_type": "markdown",
   "metadata": {},
   "source": [
    "# Part B: Examine the data for invalid values and clean it"
   ]
  },
  {
   "cell_type": "markdown",
   "metadata": {},
   "source": [
    "## B1. Investigate duration -> Examine everything!"
   ]
  },
  {
   "cell_type": "code",
   "execution_count": null,
   "metadata": {},
   "outputs": [],
   "source": [
    "# Some people were too quick in completing the survey and their answers should be ignored.\n",
    "# Nevertheless, coming up with a reasonable \"cut-off\" threshold is not that easy though.\n",
    "df.duration.nsmallest(200, keep='all')"
   ]
  },
  {
   "cell_type": "markdown",
   "metadata": {},
   "source": [
    "## B2. Participants who did not answer any non-demographic questions.\n",
    "### Let's identify them."
   ]
  },
  {
   "cell_type": "code",
   "execution_count": null,
   "metadata": {},
   "outputs": [],
   "source": [
    "questions[:7]"
   ]
  },
  {
   "cell_type": "code",
   "execution_count": null,
   "metadata": {},
   "outputs": [],
   "source": [
    "# Note: The non-demographic questions start from Q7 and afterwards (years of coding (or not) is included in basic demographic questions here),\n",
    "# that's why we use:\n",
    "#     df.iloc[:, 6:]\n",
    "temp_df = df.iloc[0:, 7:]\n",
    "only_answer_demographic = ((temp_df == 'None')\n",
    "                           | temp_df.isnull()).all(axis=1)\n",
    "\n",
    "len(df[only_answer_demographic])"
   ]
  },
  {
   "cell_type": "markdown",
   "metadata": {},
   "source": [
    "# Construct logical conditions to filter out invalid data:"
   ]
  },
  {
   "cell_type": "code",
   "execution_count": null,
   "metadata": {},
   "outputs": [],
   "source": [
    "# assume experience is universal across countries\n",
    "# although in fact experience is more scarce in developing countries\n",
    "code_exp_levels = {\n",
    "    'minimum': ['0', '< 1'],\n",
    "    'basic': ['2-3', '3-5'],\n",
    "    'intermediate': ['5-10'],\n",
    "    'advanced': ['10-20', '20+']\n",
    "}\n",
    "\n",
    "\n",
    "ml_exp_levels = {\n",
    "    'minimum': ['0', '< 1'],\n",
    "    'basic': ['2-3'],\n",
    "    'intermediate': ['3-4', '4-5'],\n",
    "    'advanced': ['5-10', '10-20', '20+']\n",
    "}\n",
    "\n",
    "\n",
    "\n",
    "# Condition 1 participants with All Nan or Nonw after Q6:\n",
    "only_answer_demographic = (\n",
    "    (temp_df == 'None')\n",
    "    | temp_df.isnull()\n",
    ").all(axis=1)\n",
    "\n",
    "only_answer_demographic.sum()\n",
    "\n",
    "\n",
    "\n",
    "# Condition 2 too young for top experience or top salary\n",
    "extreme_young = (\n",
    "    (df.age <= '24')\n",
    "    & ((df.code_exp == '20+')\n",
    "       | (df.ml_exp == '20+')\n",
    "       | (df.salary.isin(['300000-499999', '500000-999999']))\n",
    "      )\n",
    ")\n",
    "# extreme_young.sum()\n",
    "# len(df[extreme_young])\n",
    "\n",
    "\n",
    "#######\n",
    "## Will add World Bank income groups for countries in conditions below \n",
    "## ['Low income', 'Upper middle income', 'Lower middle income', 'High income']\n",
    "## Then: group salaries ['minimum', 'subsistence or below mean', 'mean', 'middle to top', 'top']\n",
    "## => we will have a very loose combination of saralies for 4 countries income groups\n",
    "### Perhaps map countries with other datasets.\n",
    "\n",
    "# Condition 3 too much experience for minimum salary\n",
    "too_exper_for_min_salary = (\n",
    "    (df.salary.isin(['0-999'])\n",
    "    & (df.code_exp.isin(['3-5', '5-10', '10-20', '20+'])\n",
    "       | (df.ml_exp.isin(['2-3', '3-4', '4-5', '5-10', '10-20', '20+']))\n",
    "      ))\n",
    ")\n",
    "\n",
    "# len(df[too_exper_for_min_salary])\n",
    "\n",
    "# Condition 4 too much experience for below average salary\n",
    "too_exper_for_subsistence_salary = (\n",
    "    (df.salary.isin(['1000-1999', '2000-2999', '3000-3999', '4000-4999']))\n",
    "                             #  & (df.role != 'Currently not employed')  # not necessary condition\n",
    "                               & ((df.code_exp.isin(['5-10', '10-20', '20+'])\n",
    "                                  | (df.ml_exp.isin(['5-10', '10-20', '20+'])))\n",
    "                            ))\n",
    "\n",
    "#len(df[too_exper_for_subsistence_salary])\n",
    "\n",
    "# Condition 5 too much experience for average salary\n",
    "too_exper_for_avg_salary = (\n",
    "    #(df.salary.isin(['5000-7499', '7500-9999']))\n",
    "        (df.salary.isin(['5000-7499']))\n",
    "                               #& (df.role != 'Currently not employed')  # not necessary condition\n",
    "                               & ((df.code_exp.isin(['10-20', '20+'])\n",
    "                                  | (df.ml_exp.isin(['10-20', '20+'])))\n",
    "                            ))\n",
    "\n",
    "# len(df[too_exper_for_avg_salary])"
   ]
  },
  {
   "cell_type": "markdown",
   "metadata": {},
   "source": [
    "# Group all possible invalidator conditions in cell above !"
   ]
  },
  {
   "cell_type": "code",
   "execution_count": null,
   "metadata": {},
   "outputs": [],
   "source": [
    "# # So there is a large number of 1082, more than 5% of participants who did not answer anything related to data science.\n",
    "# # Let's drop these participants. \n",
    "# if len(only_answer_demographic) != len(df):\n",
    "#     print(\"rows already dropped!\")\n",
    "# else:\n",
    "#     df = df[~only_answer_demographic].reset_index(drop=True)"
   ]
  },
  {
   "cell_type": "code",
   "execution_count": null,
   "metadata": {},
   "outputs": [],
   "source": [
    "df = df[~only_answer_demographic].reset_index(drop=True)"
   ]
  },
  {
   "cell_type": "code",
   "execution_count": null,
   "metadata": {},
   "outputs": [],
   "source": [
    "len(df)"
   ]
  },
  {
   "cell_type": "code",
   "execution_count": null,
   "metadata": {},
   "outputs": [],
   "source": [
    "# After the drops, the duration seems to be much more reasonable. \n",
    "# Using a threshold might still make some sense, but probably we may drop some real typing heros.\n",
    "# Any suggestions on how to further investigate this?\n",
    "df.duration.nsmallest(100, keep='all')\n",
    "# df[df.duration < 120]"
   ]
  },
  {
   "cell_type": "code",
   "execution_count": null,
   "metadata": {},
   "outputs": [],
   "source": [
    "len(df[df.duration < 61])"
   ]
  },
  {
   "cell_type": "code",
   "execution_count": null,
   "metadata": {},
   "outputs": [],
   "source": [
    "# We could also set a more strict quality limit\n",
    "# e.g. keep participants for minimum 4 answers besides demographics = drop 600 more.\n",
    "# Anyway, we shall keep those and find other methods to filter out invalid data.\n",
    "len(df.dropna(thresh=11))"
   ]
  },
  {
   "cell_type": "markdown",
   "metadata": {},
   "source": [
    "## B3 Discard invalid submissions, using logical conditions.\n",
    "### Not outliers, we just drop data entries who are invalid."
   ]
  },
  {
   "cell_type": "markdown",
   "metadata": {},
   "source": [
    "### First easy candidate for invalid submissions: too young for experience or salary"
   ]
  },
  {
   "cell_type": "code",
   "execution_count": null,
   "metadata": {},
   "outputs": [],
   "source": [
    "# extreme_young = (\n",
    "#     (df.age <= '24')\n",
    "#     & ((df.code_exp == '20+')\n",
    "#        | (df.ml_exp == '20+')\n",
    "#        | (df.salary.isin(['300000-499999', '500000-999999']))\n",
    "#       )\n",
    "# )\n",
    "# # extreme_young.sum()\n",
    "# len(df[extreme_young])"
   ]
  },
  {
   "cell_type": "code",
   "execution_count": null,
   "metadata": {},
   "outputs": [],
   "source": [
    "df = df[~extreme_young].reset_index(drop=True)"
   ]
  },
  {
   "cell_type": "code",
   "execution_count": null,
   "metadata": {},
   "outputs": [],
   "source": [
    "len(df)"
   ]
  },
  {
   "cell_type": "markdown",
   "metadata": {},
   "source": [
    "### Second easy candidate for invalid submissions:\n",
    "Don't you think that something does not seem right with the salary distribution?\n",
    "Logically, as we mentioned above beginners are expected to receive a lower salary for many reasons. But don't you think that for someone living in the USA, earing a yearly salary less than \"2.8$\", even for a part time job of, lets say 1 hour per day, is questionable for anything relating to coding?\n",
    "Let us explote this a bit more; what could the chareteristics of the sample be that explain with such a low salary, especially for USA residents?\n",
    "Obvious, candidates: level of education and experience."
   ]
  },
  {
   "cell_type": "code",
   "execution_count": null,
   "metadata": {},
   "outputs": [],
   "source": [
    "work_in_USA_for_3_per_day_code_exper = df[\n",
    "    (df.salary.isin(['0-999'])\n",
    "     & (df.country == 'United States of America'))\n",
    "].groupby('code_exp', as_index=False).size()\n",
    "\n",
    "work_in_USA_for_3_per_day_code_exper"
   ]
  },
  {
   "cell_type": "markdown",
   "metadata": {},
   "source": [
    "Obviously, the 34 submissions with 20+ years of coding experience do not belong in the 0-999 salary range in the USA.\n",
    "\n",
    "\n",
    "what should be the hourly wage for 40 hours a week for someone to get 1000 per year?\n",
    "50 weeks * 40 hours = 2000 hours => hourly renumeration of 50 cents to get 1000.\n",
    "\n",
    "If someone is part time employed = > 1000 hours per year => 1$ hourly wage.\n",
    "\n",
    "If someone is part time eg 4 months = > 650 hours per year => 1.5$ hourly wage.\n",
    "\n",
    "```\n",
    "employent status   | year work  | usd per hour |\n",
    "------------------------------------------------\n",
    "full employed      | 2000 hours | 0.5          |     \n",
    "part time (1/2)    | 1000 hours | 1            |\n",
    "occasionally empl. | 650 hours  | 1.5          |\n",
    "```\n",
    "In general, someone with minimum 5, to 10 years of coding experience (a highly skilled individual in a demanding role!) that should be employed part time, e.g. only 5 hours per week, 20 hours per month, and only for 10 months, let's say for 5$ per hour, to be in this group. NOPE! No matter how you cut in it does not fit in."
   ]
  },
  {
   "cell_type": "code",
   "execution_count": null,
   "metadata": {},
   "outputs": [],
   "source": [
    "# A\n",
    "work_in_USA_for_3_per_day_code_exper = df[\n",
    "    (df.salary.isin(['0-999'])\n",
    "     & (df.country == 'United States of America')\n",
    "     & (df.code_exp.isin(['3-5', '5-10', '10-20', '20+']))\n",
    "    )\n",
    "].groupby(['code_exp', 'role'], as_index=False).size().sort_values('size', ascending=False)\n",
    "\n",
    "\n",
    "# B\n",
    "# work_in_USA_for_3_per_day_code_exper = df[(df.salary.isin(['0-999'])\n",
    "#                                             & (df.country == 'United States of America')\n",
    "#                                             & (df.code_exp.isin(['3-5', '5-10', '10-20', '20+']))\n",
    "#                                           )\n",
    "# ].groupby(['code_exp', 'role'], as_index=False).size().sort_values('size', ascending=False)"
   ]
  },
  {
   "cell_type": "code",
   "execution_count": null,
   "metadata": {},
   "outputs": [],
   "source": [
    "#if you are not convinced, take a look at their submitted current occupation\n",
    "# if you really like EDA, check the company employment size.\n",
    "work_in_USA_for_3_per_day_code_exper = df[\n",
    "    (df.salary.isin(['0-999'])\n",
    "     & (df.country == 'United States of America'))\n",
    "    & (df.code_exp.isin(['3-5', '5-10', '10-20', '20+']))\n",
    "].groupby(['code_exp', 'role'], as_index=False).size().sort_values('size', ascending=False)\n",
    "\n",
    "# work_in_USA_for_3_per_day_code_exper\n",
    "\n",
    "#if you are not convinced, take a look at their submitted current occupation\n",
    "# if you really like EDA, check the company employment size.\n",
    "work_in_USA_for_3_per_day_code_exper = df[(df.salary.isin(['0-999'])\n",
    "                                            & (df.country == 'United States of America'))\n",
    "                                            & (df.code_exp.isin(['3-5', '5-10', '10-20', '20+']))\n",
    "].groupby(['code_exp', 'role'], as_index=False).size().sort_values('size', ascending=False)\n",
    "\n",
    "work_in_USA_for_3_per_day_code_exper"
   ]
  },
  {
   "cell_type": "code",
   "execution_count": null,
   "metadata": {},
   "outputs": [],
   "source": [
    "# We definetely should drop these observations, if we intend to make meaningful EDA about this dataset.\n",
    "# First, let's construct a similar condition for Ml experience."
   ]
  },
  {
   "cell_type": "code",
   "execution_count": null,
   "metadata": {},
   "outputs": [],
   "source": [
    "work_in_USA_for_3_per_day_ml_exper = df[(df.salary.isin(['0-999'])\n",
    "                                          & (df.country == 'United States of America'))\n",
    "].groupby('ml_exp', as_index=False).size()\n",
    "\n",
    "work_in_USA_for_3_per_day_ml_exper"
   ]
  },
  {
   "cell_type": "code",
   "execution_count": null,
   "metadata": {},
   "outputs": [],
   "source": [
    "work_in_India_for_3_per_day_code_exper = df[(df.salary.isin(['0-999'])\n",
    "                                                       & (df.role != 'Currently not employed')\n",
    "                                                       & (df.country == 'India'))\n",
    "                                                     ].groupby('code_exp', as_index=False).size()\n",
    "\n",
    "work_in_India_for_3_per_day_code_exper"
   ]
  },
  {
   "cell_type": "code",
   "execution_count": null,
   "metadata": {},
   "outputs": [],
   "source": [
    "work_in_India_for_3_per_day_ml_exper = df[(df.salary.isin(['0-999'])\n",
    "                                                     & (df.role != 'Currently not employed')\n",
    "                                                     & (df.country == 'India'))\n",
    "                                                   ].groupby('ml_exp', as_index=False).size()\n",
    "# work_in_India_for_3_per_day_ml_exper"
   ]
  },
  {
   "cell_type": "code",
   "execution_count": null,
   "metadata": {},
   "outputs": [],
   "source": [
    "# df.salary.unique()"
   ]
  },
  {
   "cell_type": "code",
   "execution_count": null,
   "metadata": {},
   "outputs": [],
   "source": [
    "# len(df.salary.unique())"
   ]
  },
  {
   "cell_type": "markdown",
   "metadata": {},
   "source": [
    "## ALSO SOS: We lose a lot of info with 25 bins, who are so unevenly distributed! A distribution chart may be misleading"
   ]
  },
  {
   "cell_type": "markdown",
   "metadata": {},
   "source": [
    "### Since there are huge cross-country wage differences, we should set a reasonable and unamibguous threshold that would hold for all countries.\n",
    "We could state that it is impossible for someone with 3 or more years of coding experience, or let's say 2 years of Ml experience to earn less than 80$ per month in such a skill demanding occupation, in any country (taking into account that this market offers a lot of opportunities for remote work on a global scale).\n",
    "\n",
    "Since this threshold is ad hoc, we could be even more strict and set a the threshold to 2-3 years. This would not be a bad choice either.\n",
    "Chosing a lower coding experience threshold would result in dropping more invalid submissions (True Positive, if we define Positive as identifying invalid submissions). But, we could ge also a few False Positives (dropping observations who ).\n",
    "As a rule, in this part of the analysis, we will set a \"loose\" threshold, so as not to drop the maximum number of invalid submission, but in order to keep as many valid submissions as possible (minimize False Positives).\n",
    "\n",
    "This analysis can be modified easily for stricter quality rules, as we will show in the end.\n",
    "It would be equally reasonable to rule out any submissions in this salary range with more than 2 years of experience in either coding or machine learning, or even everybody who is currently employed in the USA, dropping perhpaps out of the data some fellows how less than part-time.\n",
    "\n",
    "Also, note carefully that it would not be an optimal approach to use any statistical measures to exclude outliers for the data in this case, since all such measures are very biased by this kind of invalid submissions.\n",
    "\n",
    "### To conclude, let us drop all submissions that stated that they are currently employed, with salary below $1000 and coding experience of 5 or more years or machine learning experience of more than 2 years."
   ]
  },
  {
   "cell_type": "code",
   "execution_count": null,
   "metadata": {},
   "outputs": [],
   "source": [
    "too_exper_for_min_salary = (\n",
    "    (df.salary.isin(['0-999']))\n",
    "    & (df.code_exp.isin(['3-5', '5-10', '10-20', '20+'])\n",
    "       | (df.ml_exp.isin(['2-3', '3-4', '4-5', '5-10', '10-20', '20+']))\n",
    "      )\n",
    ")\n",
    "\n",
    "len(df[too_exper_for_min_salary])"
   ]
  },
  {
   "cell_type": "code",
   "execution_count": null,
   "metadata": {},
   "outputs": [],
   "source": [
    "# Example of invalid nonsense data\n",
    "df.loc[16115][validation_cols]"
   ]
  },
  {
   "cell_type": "code",
   "execution_count": null,
   "metadata": {},
   "outputs": [],
   "source": [
    "# question[107]"
   ]
  },
  {
   "cell_type": "code",
   "execution_count": null,
   "metadata": {},
   "outputs": [],
   "source": [
    "df = df[~too_exper_for_min_salary].reset_index(drop=True)"
   ]
  },
  {
   "cell_type": "code",
   "execution_count": null,
   "metadata": {},
   "outputs": [],
   "source": [
    "len(df), len(df[df.role == 'Data Scientist'])"
   ]
  },
  {
   "cell_type": "code",
   "execution_count": null,
   "metadata": {},
   "outputs": [],
   "source": [
    "# Similarly, setting 'loose' thresholds that allow for\n",
    "# some invalid submission to remain but\n",
    "# minimize False Positives of invalid submissions:\n",
    "too_exper_for_subsistence_salary = (\n",
    "    (df.salary.isin(['1000-1999', '2000-2999', '3000-3999', '4000-4999']))\n",
    "                             #  & (df.role != 'Currently not employed')  # not necessary condition\n",
    "                               & ((df.code_exp.isin(['5-10', '10-20', '20+'])\n",
    "                                  | (df.ml_exp.isin(['5-10', '10-20', '20+'])))\n",
    "                            ))\n",
    "\n",
    "len(df[too_exper_for_subsistence_salary])"
   ]
  },
  {
   "cell_type": "code",
   "execution_count": null,
   "metadata": {},
   "outputs": [],
   "source": [
    "df = df[~too_exper_for_subsistence_salary].reset_index(drop=True)"
   ]
  },
  {
   "cell_type": "code",
   "execution_count": null,
   "metadata": {},
   "outputs": [],
   "source": [
    "len(df), len(df[df.role == 'Data Scientist'])"
   ]
  },
  {
   "cell_type": "markdown",
   "metadata": {},
   "source": [
    "# ???"
   ]
  },
  {
   "cell_type": "code",
   "execution_count": null,
   "metadata": {},
   "outputs": [],
   "source": [
    "# Similarly, setting 'loose' thresholds that allow for\n",
    "# some invalid submission to remain but\n",
    "# minimize False Positives of invalid submissions:\n",
    "too_exper_for_avg_salary = (\n",
    "    #(df.salary.isin(['5000-7499', '7500-9999']))\n",
    "        (df.salary.isin(['5000-7499']))\n",
    "                               #& (df.role != 'Currently not employed')  # not necessary condition\n",
    "                               & ((df.code_exp.isin(['10-20', '20+'])\n",
    "                                  | (df.ml_exp.isin(['10-20', '20+'])))\n",
    "                            ))\n",
    "\n",
    "len(df[too_exper_for_avg_salary])"
   ]
  },
  {
   "cell_type": "code",
   "execution_count": null,
   "metadata": {},
   "outputs": [],
   "source": [
    "df = df[~too_exper_for_avg_salary].reset_index(drop=True)"
   ]
  },
  {
   "cell_type": "code",
   "execution_count": null,
   "metadata": {},
   "outputs": [],
   "source": [
    "# Similarly, setting 'loose' thresholds that allow for\n",
    "# some invalid submission to remain but\n",
    "# minimize False Positives of invalid submissions:\n",
    "too_exper_for_low_salary = (\n",
    "    (df.salary.isin(['10000-14999']))\n",
    "                               #& (df.role != 'Currently not employed')  # not necessary condition\n",
    "                               & ((df.code_exp.isin(['20+'])\n",
    "                                  | (df.ml_exp.isin(['20+'])))  # perhaps add '10-20' in ml exp\n",
    "                            ))\n",
    "\n",
    "len(df[too_exper_for_low_salary])"
   ]
  },
  {
   "cell_type": "code",
   "execution_count": null,
   "metadata": {},
   "outputs": [],
   "source": [
    "df = df[~too_exper_for_low_salary].reset_index(drop=True)"
   ]
  },
  {
   "cell_type": "code",
   "execution_count": null,
   "metadata": {},
   "outputs": [],
   "source": [
    "len(df), len(df[df.role == 'Data Scientist'])"
   ]
  },
  {
   "cell_type": "markdown",
   "metadata": {},
   "source": [
    "### Now let's work the other way around, no exper and young age and top salary"
   ]
  },
  {
   "cell_type": "code",
   "execution_count": null,
   "metadata": {},
   "outputs": [],
   "source": [
    "# some invalid submission to remain but\n",
    "# minimize False Positives of invalid submissions:\n",
    "unexper_for_top_salary = (\n",
    "    (df.salary.isin(['300000-499000', '500000-999999']))  # maybe add '300000-499000',\n",
    "                               & (df.age <= '34')  \n",
    "                               & (df.code_exp.isin(['1-2', '< 1', '0'])\n",
    "                               & (df.ml_exp.isin(['1-2', '< 1', '0', np.nan]))  # perhaps or (instead of and) term\n",
    "                            ))\n",
    "\n",
    "len(df[unexper_for_top_salary])"
   ]
  },
  {
   "cell_type": "code",
   "execution_count": null,
   "metadata": {},
   "outputs": [],
   "source": [
    "df_validation = df[validation_cols]"
   ]
  },
  {
   "cell_type": "code",
   "execution_count": null,
   "metadata": {},
   "outputs": [],
   "source": [
    "demogr_unexper_for_top_salary = df_validation[unexper_for_top_salary]"
   ]
  },
  {
   "cell_type": "code",
   "execution_count": null,
   "metadata": {},
   "outputs": [],
   "source": [
    "demogr_unexper_for_top_salary"
   ]
  },
  {
   "cell_type": "code",
   "execution_count": null,
   "metadata": {},
   "outputs": [],
   "source": [
    "demogr_unexper_for_top_salary.index"
   ]
  },
  {
   "cell_type": "code",
   "execution_count": null,
   "metadata": {},
   "outputs": [],
   "source": [
    "task_index = filter_df(df, 23)\n",
    "# task_index"
   ]
  },
  {
   "cell_type": "code",
   "execution_count": null,
   "metadata": {},
   "outputs": [],
   "source": [
    "task = task_index[task_index]\n",
    "len(task)"
   ]
  },
  {
   "cell_type": "code",
   "execution_count": null,
   "metadata": {},
   "outputs": [],
   "source": [
    "task.iloc[1]"
   ]
  },
  {
   "cell_type": "code",
   "execution_count": null,
   "metadata": {},
   "outputs": [],
   "source": [
    "task.iloc[1][0]"
   ]
  },
  {
   "cell_type": "code",
   "execution_count": null,
   "metadata": {},
   "outputs": [],
   "source": [
    "task.iloc[demogr_unexper_for_top_salary.index]  # task.iloc[['3088', '5612', '6573', '8319', '7820', '11348']]   # '7820'"
   ]
  },
  {
   "cell_type": "markdown",
   "metadata": {},
   "source": [
    "# OBVIOUS INVALID CONDITIONS\n",
    "\n",
    "#### Q5: Machine Learning Engineer VS Q15 \"I do not use ML methods\" : 'ml_exp' == 0\n",
    "#### Q5: Machine Learning Engineer VS Q15 \n",
    "#### Q5: Software Engineer VS Q6: 'code_exp' == 0\n",
    "#### Q5: Data Engineer, Data Scientist, Data Analyst VS Q21: ds_team == 0 and Q23 Activities\n",
    "#### Q15 \"I do not use ML methods\" : 'ml_exp' == 0 VS \n",
    "    A) Q16 anythin but 'None'\n",
    "    B)Q17 using special methods such as   (this leads to Q18 and Q19)\n",
    "    Gradient Boosting Machines (xgboost, lightgbm, etc)\n",
    "    Dense Neural Networks (MLPs, etc)\n",
    "    Convolutional Neural Networks\n",
    "    Generative Adversarial Networks\n",
    "    Recurrent Neural Networks\n",
    "    Transformer Networks (BERT, gpt-3, etc)\n",
    "    "
   ]
  },
  {
   "cell_type": "code",
   "execution_count": null,
   "metadata": {},
   "outputs": [],
   "source": [
    "check_q23 = join_dfs(df_validation, task.iloc[df_validation.index])\n",
    "check_q23.head(2)"
   ]
  },
  {
   "cell_type": "code",
   "execution_count": null,
   "metadata": {},
   "outputs": [],
   "source": [
    "check_q23.columns[0:3]"
   ]
  },
  {
   "cell_type": "code",
   "execution_count": null,
   "metadata": {},
   "outputs": [],
   "source": [
    "check_q23.iloc[0:3]"
   ]
  },
  {
   "cell_type": "code",
   "execution_count": null,
   "metadata": {},
   "outputs": [],
   "source": [
    " check_q23.iloc[:3, [1, 5]] "
   ]
  },
  {
   "cell_type": "code",
   "execution_count": null,
   "metadata": {},
   "outputs": [],
   "source": [
    " check_q23.iloc[:3, [13]]"
   ]
  },
  {
   "cell_type": "code",
   "execution_count": null,
   "metadata": {},
   "outputs": [],
   "source": [
    "check_q23[check_q23.columns[13]]"
   ]
  },
  {
   "cell_type": "code",
   "execution_count": null,
   "metadata": {},
   "outputs": [],
   "source": [
    "check_q23.columns[13:16]"
   ]
  },
  {
   "cell_type": "code",
   "execution_count": null,
   "metadata": {},
   "outputs": [],
   "source": [
    "check_q23.columns[[14]].values"
   ]
  },
  {
   "cell_type": "code",
   "execution_count": null,
   "metadata": {},
   "outputs": [],
   "source": [
    "# ml_eng_without_exp = ((check_q23.role == 'Machine Learning Engineer')\n",
    "#                         & ((check_q23.ml_exp == 0) \n",
    "#                            | (check_q23.ml_exp == np.nan)\n",
    "#                           )\n",
    "#                       & (\n",
    "#                           #(check_q23['Build prototypes to explore applying machine learning to new areas'] == 1.0)\n",
    "#                       | (check_q23[check_q23.columns[13]] == 1.0)\n",
    "#                           | (check_q23[check_q23.columns[14]] == 1.0)\n",
    "#                       | (check_q23[check_q23.columns[15]] == 1.0))\n",
    "#                         #& (check_q23.iloc[:, [13]]  == '1.0')\n",
    "#                      )\n",
    "\n",
    "# check_q23[ml_eng_without_exp]"
   ]
  },
  {
   "cell_type": "code",
   "execution_count": null,
   "metadata": {},
   "outputs": [],
   "source": [
    "data_role_no_team = df[\n",
    "    ((df.role == 'Data Scientist')\n",
    "     | (df.role == 'Data Engineer')\n",
    "     | (df.role == 'Data Analyst'))\n",
    "    & (df.team_ds == '0')\n",
    "]\n",
    "\n",
    "len(data_role_no_team)"
   ]
  },
  {
   "cell_type": "code",
   "execution_count": null,
   "metadata": {},
   "outputs": [],
   "source": [
    "df[df.country == 'Poland']"
   ]
  },
  {
   "cell_type": "code",
   "execution_count": null,
   "metadata": {},
   "outputs": [],
   "source": [
    "# SUGGESTIONS FOR QUESTIONNAIRE\n",
    "# Q4: Should be 2 distinct questions\n",
    "# Q5: about role could be 'Employed full time', 'Employed part time', 'Currently not employed', 'Student'\n",
    "# and a Q6 for employment role with current question B choices."
   ]
  },
  {
   "cell_type": "code",
   "execution_count": null,
   "metadata": {},
   "outputs": [],
   "source": [
    "check_q23_activity_conditions = join_dfs(df_validation, task.iloc[df_validation.index])\n",
    "check_q23_activity_conditions"
   ]
  },
  {
   "cell_type": "code",
   "execution_count": null,
   "metadata": {},
   "outputs": [],
   "source": [
    "# demogr_task = join_dfs(demogr_unexper_for_top_salary, task)\n",
    "# demogr_task"
   ]
  },
  {
   "cell_type": "code",
   "execution_count": null,
   "metadata": {},
   "outputs": [],
   "source": [
    "# len(df.dropna(thresh=10))"
   ]
  },
  {
   "cell_type": "code",
   "execution_count": null,
   "metadata": {},
   "outputs": [],
   "source": [
    "# len(df[df.duration < 61])"
   ]
  },
  {
   "cell_type": "markdown",
   "metadata": {},
   "source": [
    "# IT IS DRAFT OR OLD CODE FROM HERE. IGNORE IT\n",
    "Explore strange US salary above 100k to 200k and global modes of 10-15 and 40 to 50"
   ]
  },
  {
   "cell_type": "code",
   "execution_count": null,
   "metadata": {},
   "outputs": [],
   "source": [
    "# salary_abmormal_India = ((df.salary.isin(['10000-14999'])  # 100000-124999', '125000-149999', '150000-199999', '10000-14999'\n",
    "#                                & (df.country == 'India')\n",
    "# #                                & (df.code_exp.isin(['10-20', '20+'])\n",
    "#                                   #| (df.ml_exp.isin(['10-20', '20+'])))\n",
    "#                        ))\n",
    "\n",
    "# len(df[salary_abmormal_India])"
   ]
  },
  {
   "cell_type": "code",
   "execution_count": null,
   "metadata": {},
   "outputs": [],
   "source": [
    "# df[salary_abmormal_India].groupby(['code_exp', 'age'], as_index=False).size()"
   ]
  },
  {
   "cell_type": "code",
   "execution_count": null,
   "metadata": {},
   "outputs": [],
   "source": [
    "# too_exper_for_min_salary.sample(4)"
   ]
  },
  {
   "cell_type": "code",
   "execution_count": null,
   "metadata": {},
   "outputs": [],
   "source": [
    "# extreme_young = ((df.salary.isin('') <= '24')\n",
    "#                        & ((df.code_exp == '20+')\n",
    "#                           | (df.ml_exp == '20+')\n",
    "#                           | (df.salary.isin(['300000-499999', '500000-999999'])\n",
    "#                          )\n",
    "#                 ))"
   ]
  },
  {
   "cell_type": "code",
   "execution_count": null,
   "metadata": {},
   "outputs": [],
   "source": [
    "# # create the user demogr_compgraphics dataframe\n",
    "# demogr = df[['age', 'gender', 'country', 'education', 'role', 'code_exp', 'ml_exp', 'salary']]"
   ]
  },
  {
   "cell_type": "code",
   "execution_count": null,
   "metadata": {},
   "outputs": [],
   "source": [
    "# demogr[\n",
    "#     (demogr.salary.isin(['0-999'])\n",
    "#     & (demogr.country == 'India'))\n",
    "# ].groupby(['code_exp']).size().reset_index()"
   ]
  },
  {
   "cell_type": "code",
   "execution_count": null,
   "metadata": {},
   "outputs": [],
   "source": [
    "# demogr[\n",
    "#     (demogr.salary.isin(['0-999'])\n",
    "#     & (demogr.country == 'India'))\n",
    "# ].groupby(['code_exp']).size().reset_index()"
   ]
  },
  {
   "cell_type": "code",
   "execution_count": null,
   "metadata": {},
   "outputs": [],
   "source": [
    "# demogr[\n",
    "#     (demogr.salary.isin(['0-999'])\n",
    "#     & (demogr.country == 'United States of America'))\n",
    "# ].groupby(['code_exp', 'ml_exp']).size()#.reset_index()"
   ]
  },
  {
   "cell_type": "code",
   "execution_count": null,
   "metadata": {},
   "outputs": [],
   "source": [
    "# us_in_group_code_exp = ds_Us_In.groupby(['country', 'code_exp', 'salary']).size().reset_index()\n",
    "# us_in_group_code_exp.head(40)"
   ]
  },
  {
   "cell_type": "code",
   "execution_count": null,
   "metadata": {},
   "outputs": [],
   "source": [
    "#Prepare Q23: Work activities, part of work role for analysis\n",
    "# task = filter_df(df, 23)\n",
    "# task = task[task]\n",
    "# # task"
   ]
  },
  {
   "cell_type": "code",
   "execution_count": null,
   "metadata": {},
   "outputs": [],
   "source": [
    "# demogr_task = join_dfs(demogr, task)\n",
    "# demogr_task"
   ]
  },
  {
   "cell_type": "code",
   "execution_count": null,
   "metadata": {},
   "outputs": [],
   "source": [
    "# # create the employment demogr_compgraphics dataframe\n",
    "# comp = df[[\"Q20\", \"Q21\", \"Q22\"]]\n",
    "# comp.columns = [\"empl_size\", \"ds_team\", \"comp_ml\"]  # plus Q23 who we prepared\n",
    "# # comp"
   ]
  },
  {
   "cell_type": "code",
   "execution_count": null,
   "metadata": {},
   "outputs": [],
   "source": [
    "# demogr_comp = join_dfs(demogr_task, comp)"
   ]
  },
  {
   "cell_type": "markdown",
   "metadata": {},
   "source": [
    "## EXAMINE Salary 'outliers\""
   ]
  },
  {
   "cell_type": "markdown",
   "metadata": {},
   "source": [
    "Ideas: Clean the data from submission errors, not from Outliers.\n",
    "\n",
    "A) Basic Variables:\n",
    "\n",
    "    0) Absoluterly across all the data: Age and experience, experience and salary, age and salary (with country.) check if more than one 'extreme' answers.\n",
    "\n",
    "    1) Within country: age + coding exper + ml exper + comp size + median or mean of salary of other bins (next and previous?, depending on No of Obs)\n",
    "    Additive flow:\n",
    "    Start with age and coding exper and ml exper and salary. Remove extremely obvious observations.\n",
    "    2) Compare with other countries\n",
    "    3) Compare with previous years\n",
    "    4) salary size in comparison to bin and number of observations in the bin (eg. 500000 is 500 obs in first age bin and 1 in 10 in salaries bin)\n",
    "\n",
    "B) Secondary Variables:\n",
    "\n",
    "    1) Completion time:\n",
    "    2) number of Nan:"
   ]
  },
  {
   "cell_type": "code",
   "execution_count": null,
   "metadata": {},
   "outputs": [],
   "source": [
    "# demogr.salary.unique()"
   ]
  },
  {
   "cell_type": "code",
   "execution_count": null,
   "metadata": {},
   "outputs": [],
   "source": [
    "# # too_much_exper_young = demo[((demo.age <= '22') & (demo.code_exp.isin([\"10-20 years\", \"20+\"])))]# too_much_exper_young = demo[((demo.age <= '22') & (demo.code_exp.isin([\"5-10 years\", \"10-20 years\", \"20+\"])))]\n",
    "# extreme_young = demogr[((demogr.age <= \"24\") \n",
    "#                                  & ((demogr.code_exp > 20)  # > 10 = 10-20 years\n",
    "#                                  |  (demogr.ml_exp > 20)  # > 10 = 10-20 years\n",
    "#                                  |  (demogr.salary.isin([\"300000-499999\", \"500000-999999\"]))  # > 500\n",
    "#                                    )\n",
    "#                                 )]\n",
    "# extreme_young"
   ]
  },
  {
   "cell_type": "code",
   "execution_count": null,
   "metadata": {},
   "outputs": [],
   "source": [
    "# 27 observations should be excluded\n",
    "# len(extreme_young)"
   ]
  },
  {
   "cell_type": "code",
   "execution_count": null,
   "metadata": {},
   "outputs": [],
   "source": [
    "# less_exteme_younger = demogr[((demogr.age <= \"21\") \n",
    "#                                  & ((demogr.code_exp > 10) & (demogr.code_exp  < 30) # > 10 = 10-20 years\n",
    "#                                  |  (demogr.ml_exp > 10) & (demogr.ml_exp  < 30) # > 10 = 10-20 years\n",
    "#                                  |  (demogr.salary.isin([\"300000-499999\", \"500000-999999\"]))  # > 500\n",
    "#                                    )\n",
    "#                                 )]\n",
    "# less_exteme_younger"
   ]
  },
  {
   "cell_type": "code",
   "execution_count": null,
   "metadata": {},
   "outputs": [],
   "source": [
    "# len(exteme_young[exteme_young.salary.isin([\"300000-499999\", \"500000-999999\"])])"
   ]
  },
  {
   "cell_type": "code",
   "execution_count": null,
   "metadata": {},
   "outputs": [],
   "source": []
  },
  {
   "cell_type": "code",
   "execution_count": null,
   "metadata": {},
   "outputs": [],
   "source": [
    "# len(exteme_young[(exteme_young.salary == \"500000-999999\")\n",
    "#                  | (exteme_young.salary == \"300000-499999\")\n",
    "#                  & (exteme_young.country == \"India\")])\n",
    "\n",
    "# len(exteme_young[(exteme_young.salary == \"500000-999999\")\n",
    "#                  | (exteme_young.salary == \"300000-499999\")\n",
    "#                  & (exteme_young.country == \"India\")\n",
    "#                  & (exteme_young.role == \"Data Scientist\")])\n",
    "\n",
    "# len(demogr[(demogr.salary == \"500000-999999\")\n",
    "#            | (demogr.salary == \"300000-499999\")\n",
    "#            & (demogr.country == \"India\")\n",
    "#            & (demogr.role == \"Data Scientist\")])\n",
    "\n",
    "# len(demogr[(demogr.Q24 == \"500000-999999\") & (demogr.Q3 == \"India\")])\n",
    "\n",
    "# len(orig[(orig.Q24 == \"> $500,000\")])# & (orig.Q3 == \"India\")])\n",
    "\n",
    "# len(orig[(orig.Q24 == \"> $500,000\") & (orig.Q3 == \"India\")])\n",
    "\n",
    "# orig.Q4\n",
    "\n",
    "# data_scientists_India = demogr_comp[(\n",
    "#      # (demogr_comp.role =='Data Scientist')\n",
    "#      (demogr_comp.country.isin(['India']))\n",
    "#     & (demogr_comp.salary.notna())\n",
    "#     & ((demogr_comp.salary == \"500000-999999\")\n",
    "#     |  (demogr_comp.salary == \"300000-499999\"))\n",
    "#     #& (demogr_comp.code_exp <= 10)\n",
    "# )].reset_index(drop=True)\n",
    "# data_scientists_India.sort_values(by='salary').head(3)\n",
    "\n",
    "# # demogr_comp['combined_exp'] = demogr_comp['code_exp'] + demogr_comp['ml_exp']\n",
    "\n",
    "# # demogr_comp.role.value_counts()\n",
    "\n",
    "# # demogr_comp[demogr_comp.role == 'Currently not employed']#.value_counts()"
   ]
  },
  {
   "cell_type": "code",
   "execution_count": null,
   "metadata": {},
   "outputs": [],
   "source": [
    "# too_much_exper_young = demogr_comp[((demogr_comp.age <= '24') & \n",
    "#                              (demogr_comp.role == 'data_scientist') & \n",
    "#                              (demogr_comp.code_exp.isin([\"20+ years\"]) |\n",
    "#                               demogr_comp.ml_exp.isin([\"20 or more years\"]) |\n",
    "#                               demogr_comp.salary > 100000)\n",
    "#                             )]\n",
    "# too_much_exper_young"
   ]
  },
  {
   "cell_type": "code",
   "execution_count": null,
   "metadata": {},
   "outputs": [],
   "source": [
    "# demogr_comp.country.unique()"
   ]
  },
  {
   "cell_type": "code",
   "execution_count": null,
   "metadata": {},
   "outputs": [],
   "source": [
    "# ds = demogr_comp[demogr_comp['role'] == 'Data Scientist']\n",
    "# ds"
   ]
  },
  {
   "cell_type": "code",
   "execution_count": null,
   "metadata": {},
   "outputs": [],
   "source": [
    "# ds.country.value_counts()"
   ]
  },
  {
   "cell_type": "code",
   "execution_count": null,
   "metadata": {},
   "outputs": [],
   "source": [
    "# demogr_comp.ml_exp.value_counts()\n",
    "\n",
    "# data_scientists_USA = demogr_comp[(\n",
    "#       (demogr_comp.role =='Data Scientist')\n",
    "#     & (demogr_comp.country.isin(['United States of America']))\n",
    "#     & (demogr_comp.salary.notna())\n",
    "#     & (demogr_comp.salary > 199000 )\n",
    "#     & (demogr_comp.salary <= 500000)\n",
    "#     & (demogr_comp.code_exp <= 10)\n",
    "# )].reset_index(drop=True)\n",
    "# data_scientists_USA.sort_values(by='salary').head(3)\n",
    "\n",
    "# code_exp_salary = data_scientists_USA.groupby('code_exp').size()\n",
    "# code_exp_salary\n",
    "\n",
    "# code_exp_salary = data_scientists_USA.groupby('code_exp').mean()  # .size()#\n",
    "# code_exp_salary\n",
    "\n",
    "# plt.plot(code_exp_salary.salary)\n",
    "\n",
    "# ml_exp_salary = data_scientists_USA.groupby('ml_exp').mean()  #.size()\n",
    "# ml_exp_salary\n",
    "\n",
    "# plt.plot(ml_exp_salary.salary)\n",
    "\n",
    "# data_scientists_USA.salary.value_counts()\n",
    "\n",
    "# data_scientists_USA.salary.dtypes"
   ]
  },
  {
   "cell_type": "code",
   "execution_count": null,
   "metadata": {},
   "outputs": [],
   "source": [
    "# data_scientists_USA['salary'] = pd.to_numeric(data_scientists_USA['salary'], errors='coerce')"
   ]
  },
  {
   "cell_type": "code",
   "execution_count": null,
   "metadata": {},
   "outputs": [],
   "source": [
    "# data_scientists_USA['salary'] = data_scientists_USA['salary'].astype(float)"
   ]
  },
  {
   "cell_type": "code",
   "execution_count": null,
   "metadata": {},
   "outputs": [],
   "source": [
    "# five_year_exper_data_scientists_USA = demogr_comp[(\n",
    "#       (demogr_comp.role =='Data Scientist')\n",
    "#     & (demogr_comp.country.isin(['United States of America']))\n",
    "#     & (demogr_comp.code_exp == 30)\n",
    "#     & (demogr_comp.ml_exp == 20)\n",
    "#     #| (demogr_comp.salary > 125000)\n",
    "# )]\n",
    "# five_year_exper_data_scientists_USA.salary.mean()\n",
    "\n",
    "# five_year_exper_data_scientists_USA = demogr_comp[(\n",
    "#       (demogr_comp.role =='Data Scientist')\n",
    "#     & (demogr_comp.country.isin(['United States of America']))\n",
    "#     & (demogr_comp.code_exp == 30)\n",
    "#     & (demogr_comp.ml_exp == 10)\n",
    "#     #| (demogr_comp.salary > 125000)\n",
    "# )]\n",
    "# five_year_exper_data_scientists_USA.salary.mean()\n",
    "\n",
    "# five_year_exper_data_scientists_USA = demogr_comp[(\n",
    "#       (demogr_comp.role =='Data Scientist')\n",
    "#     & (demogr_comp.country.isin(['United States of America']))\n",
    "#     & (demogr_comp.code_exp == 20)\n",
    "#     & (demogr_comp.ml_exp == 5)\n",
    "#     #| (demogr_comp.salary > 125000)\n",
    "# )]\n",
    "# five_year_exper_data_scientists_USA.salary.mean()\n",
    "\n",
    "# five_year_exper_data_scientists_USA = demogr_comp[(\n",
    "#       (demogr_comp.role =='Data Scientist')\n",
    "#     & (demogr_comp.country.isin(['United States of America']))\n",
    "#     & (demogr_comp.code_exp == 10)\n",
    "#     & (demogr_comp.ml_exp == 5)\n",
    "#     #| (demogr_comp.salary > 125000)\n",
    "# )]\n",
    "# five_year_exper_data_scientists_USA.salary.mean()\n",
    "\n",
    "# five_year_exper_data_scientists_USA = demogr_comp[(\n",
    "#       (demogr_comp.role =='Data Scientist')\n",
    "#     & (demogr_comp.country.isin(['United States of America']))\n",
    "#     & (demogr_comp.code_exp == 5)\n",
    "#     & (demogr_comp.ml_exp == 5)\n",
    "#     #| (demogr_comp.salary > 125000)\n",
    "# )]\n",
    "# five_year_exper_data_scientists_USA.salary.mean()\n",
    "\n",
    "# five_year_exper_data_scientists_USA = demogr_comp[(\n",
    "#       (demogr_comp.role =='Data Scientist')\n",
    "#     & (demogr_comp.country.isin(['United States of America']))\n",
    "#     & (demogr_comp.code_exp == 5)\n",
    "#     & (demogr_comp.ml_exp == 4)\n",
    "#     #| (demogr_comp.salary > 125000)\n",
    "# )]\n",
    "# five_year_exper_data_scientists_USA.salary.mean()\n",
    "\n",
    "# five_year_exper_data_scientists_USA = demogr_comp[(\n",
    "#       (demogr_comp.role =='Data Scientist')\n",
    "#     & (demogr_comp.country.isin(['United States of America']))\n",
    "#     & (demogr_comp.code_exp == 5)\n",
    "#     & (demogr_comp.ml_exp == 3)\n",
    "#     #| (demogr_comp.salary > 125000)\n",
    "# )]\n",
    "# five_year_exper_data_scientists_USA.salary.mean()"
   ]
  },
  {
   "cell_type": "code",
   "execution_count": null,
   "metadata": {},
   "outputs": [],
   "source": [
    "# ten_year_exper_data_scientists_USA = demogr_comp[(\n",
    "#       (demogr_comp.role =='Data Scientist')\n",
    "#     & (demogr_comp.country.isin(['United States of America']))\n",
    "#     & (demogr_comp.code_exp == 5)\n",
    "#     & (demogr_comp.ml_exp == 2)\n",
    "#     #| (demogr_comp.salary > 125000)\n",
    "# )]\n",
    "# ten_year_exper_data_scientists_USA.salary.mean()\n",
    "\n",
    "# twenty_year_exper_data_scientists_USA = demogr_comp[(\n",
    "#       (demogr_comp.role =='Data Scientist')\n",
    "#     & (demogr_comp.country.isin(['United States of America']))\n",
    "#     & (demogr_comp.code_exp == 20)\n",
    "#     & (demogr_comp.ml_exp == 20)\n",
    "#     #| (demogr_comp.salary > 125000)\n",
    "# )]\n",
    "# twenty_year_exper_data_scientists_USA.salary.mean()\n",
    "\n",
    "# demogr_25_29 = demogr_comp[(demogr_comp['age'] == '25-29')]\n",
    "# ds_Us_In = ds[\n",
    "#       (ds['country'] == 'United States of America')\n",
    "#     | (ds['country'] == 'India')].reset_index(drop=True)\n",
    "# ds_Us_In\n",
    "\n",
    "# # len(five_year_exper_data_scientists_USA_India)\n",
    "\n",
    "# # five_year_exper_data_scientists_USA_India.groupby(\"country\").mean()\n",
    "\n",
    "# ds.info()\n",
    "\n",
    "# ds.ml_exp.unique()\n",
    "\n",
    "# ds.code_exp.value_counts().sort_index()\n",
    "\n",
    "# ds.ml_exp.value_counts().sort_index()\n",
    "\n",
    "# demogr[demogr.Q5 == \"Data Scientist\"].Q24.describe()\n",
    "\n",
    "# ds.country.value_counts().sort_index()\n",
    "\n",
    "# ds.age.value_counts(True).sort_index()\n",
    "\n",
    "# ds.gender.value_counts(True).sort_index()\n",
    "\n",
    "# # ds.country.value_counts(sort=True)#.sort_index()\n",
    "\n",
    "\n",
    "\n",
    "# len(ds_Us_In.salary)\n",
    "\n",
    "# ds_Us_In.salary.value_counts().sort_index()\n",
    "\n",
    "# ds_Us_In.code_exp.value_counts().sort_index()\n",
    "\n",
    "# ds_Us_In.ml_exp.value_counts().sort_index()\n",
    "\n",
    "# ds_Us_In\n",
    "\n",
    "# us_in_group_code_exp = ds_Us_In.groupby(['country', 'code_exp']).mean()\n",
    "# us_in_group_code_exp\n",
    "\n",
    "# us_in_group_code_exp = ds_Us_In.groupby(['country', 'education','code_exp', 'ml_exp', 'salary']).size().reset_index()\n",
    "# us_in_group_code_exp.head(40)\n",
    "\n",
    "# us_in_group_code_exp = ds_Us_In.groupby(['country', 'code_exp', 'salary']).size().reset_index()\n",
    "# us_in_group_code_exp.head(40)\n",
    "\n",
    "# us_in_group_code_exp[us_in_group_code_exp['country'] == 'India']\n",
    "\n",
    "# ds_Us_In[ds_Us_In['salary'] > 999000]\n",
    "\n",
    "# ds_Us_In[ds_Us_In['salary'] == 500000]\n",
    "\n",
    "# too_much_exper_young = demogr_comp[((demogr_comp.age <= '24') & \n",
    "#                              (demogr_comp.code_exp.isin([\"20+ years\"]) |\n",
    "#                               demogr_comp.ml_exp.isin([\"20 or more years\"]) |\n",
    "#                               demogr_comp.salary.isin([\"199.999\", \"249.999\", \"299.999\", \"500.000\"]))\n",
    "#                             )]\n",
    "# too_much_exper_young\n",
    "\n"
   ]
  },
  {
   "cell_type": "code",
   "execution_count": null,
   "metadata": {},
   "outputs": [],
   "source": []
  }
 ],
 "metadata": {
  "kernelspec": {
   "display_name": "Python 3",
   "language": "python",
   "name": "python3"
  },
  "language_info": {
   "codemirror_mode": {
    "name": "ipython",
    "version": 3
   },
   "file_extension": ".py",
   "mimetype": "text/x-python",
   "name": "python",
   "nbconvert_exporter": "python",
   "pygments_lexer": "ipython3",
   "version": "3.8.5"
  }
 },
 "nbformat": 4,
 "nbformat_minor": 4
}
